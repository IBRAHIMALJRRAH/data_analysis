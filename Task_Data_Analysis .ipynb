{
  "cells": [
    {
      "cell_type": "markdown",
      "metadata": {
        "id": "6VwD9jvbHmff"
      },
      "source": [
        "**Read the data files using library glob and combine all data as one dataframe using pandas**:\n",
        "\n"
      ]
    },
    {
      "cell_type": "code",
      "execution_count": null,
      "metadata": {
        "id": "KBo_Cz3SHmfi",
        "outputId": "4cb10599-88cd-440d-cae5-8a8b18319cb8"
      },
      "outputs": [
        {
          "data": {
            "text/html": [
              "<div>\n",
              "<style scoped>\n",
              "    .dataframe tbody tr th:only-of-type {\n",
              "        vertical-align: middle;\n",
              "    }\n",
              "\n",
              "    .dataframe tbody tr th {\n",
              "        vertical-align: top;\n",
              "    }\n",
              "\n",
              "    .dataframe thead th {\n",
              "        text-align: right;\n",
              "    }\n",
              "</style>\n",
              "<table border=\"1\" class=\"dataframe\">\n",
              "  <thead>\n",
              "    <tr style=\"text-align: right;\">\n",
              "      <th></th>\n",
              "      <th>Order ID</th>\n",
              "      <th>Product</th>\n",
              "      <th>Quantity Ordered</th>\n",
              "      <th>Price Each</th>\n",
              "      <th>Order Date</th>\n",
              "      <th>Purchase Address</th>\n",
              "    </tr>\n",
              "  </thead>\n",
              "  <tbody>\n",
              "    <tr>\n",
              "      <th>0</th>\n",
              "      <td>171654</td>\n",
              "      <td>USB-C Charging Cable</td>\n",
              "      <td>1</td>\n",
              "      <td>11.95</td>\n",
              "      <td>04/22/20 22:27</td>\n",
              "      <td>784 Pine St, Los Angeles, CA 90001</td>\n",
              "    </tr>\n",
              "    <tr>\n",
              "      <th>1</th>\n",
              "      <td>171655</td>\n",
              "      <td>Wired Headphones</td>\n",
              "      <td>2</td>\n",
              "      <td>11.99</td>\n",
              "      <td>04/02/20 15:14</td>\n",
              "      <td>513 North St, Boston, MA 02215</td>\n",
              "    </tr>\n",
              "    <tr>\n",
              "      <th>2</th>\n",
              "      <td>171656</td>\n",
              "      <td>Bose SoundSport Headphones</td>\n",
              "      <td>1</td>\n",
              "      <td>99.99</td>\n",
              "      <td>04/30/20 20:09</td>\n",
              "      <td>480 Maple St, Los Angeles, CA 90001</td>\n",
              "    </tr>\n",
              "    <tr>\n",
              "      <th>3</th>\n",
              "      <td>171657</td>\n",
              "      <td>Wired Headphones</td>\n",
              "      <td>1</td>\n",
              "      <td>11.99</td>\n",
              "      <td>04/05/20 00:23</td>\n",
              "      <td>5 Pine St, San Francisco, CA 94016</td>\n",
              "    </tr>\n",
              "    <tr>\n",
              "      <th>4</th>\n",
              "      <td>171658</td>\n",
              "      <td>AAA Batteries (4-pack)</td>\n",
              "      <td>2</td>\n",
              "      <td>2.99</td>\n",
              "      <td>04/07/20 10:36</td>\n",
              "      <td>95 Lake St, New York City, NY 10001</td>\n",
              "    </tr>\n",
              "    <tr>\n",
              "      <th>...</th>\n",
              "      <td>...</td>\n",
              "      <td>...</td>\n",
              "      <td>...</td>\n",
              "      <td>...</td>\n",
              "      <td>...</td>\n",
              "      <td>...</td>\n",
              "    </tr>\n",
              "    <tr>\n",
              "      <th>17116</th>\n",
              "      <td>250343</td>\n",
              "      <td>Wired Headphones</td>\n",
              "      <td>1</td>\n",
              "      <td>11.99</td>\n",
              "      <td>09/13/21 21:20</td>\n",
              "      <td>981 West St, San Francisco, CA 94016</td>\n",
              "    </tr>\n",
              "    <tr>\n",
              "      <th>17117</th>\n",
              "      <td>250344</td>\n",
              "      <td>Bose SoundSport Headphones</td>\n",
              "      <td>1</td>\n",
              "      <td>99.99</td>\n",
              "      <td>09/15/21 15:41</td>\n",
              "      <td>16 Highland St, Los Angeles, CA 90001</td>\n",
              "    </tr>\n",
              "    <tr>\n",
              "      <th>17118</th>\n",
              "      <td>250345</td>\n",
              "      <td>AAA Batteries (4-pack)</td>\n",
              "      <td>3</td>\n",
              "      <td>2.99</td>\n",
              "      <td>09/15/21 17:13</td>\n",
              "      <td>630 South St, Los Angeles, CA 90001</td>\n",
              "    </tr>\n",
              "    <tr>\n",
              "      <th>17119</th>\n",
              "      <td>250346</td>\n",
              "      <td>Wired Headphones</td>\n",
              "      <td>1</td>\n",
              "      <td>11.99</td>\n",
              "      <td>09/25/21 08:15</td>\n",
              "      <td>626 Adams St, San Francisco, CA 94016</td>\n",
              "    </tr>\n",
              "    <tr>\n",
              "      <th>17120</th>\n",
              "      <td>250347</td>\n",
              "      <td>Bose SoundSport Headphones</td>\n",
              "      <td>1</td>\n",
              "      <td>99.99</td>\n",
              "      <td>09/01/21 20:17</td>\n",
              "      <td>269 Jefferson St, Boston, MA 02215</td>\n",
              "    </tr>\n",
              "  </tbody>\n",
              "</table>\n",
              "<p>368935 rows × 6 columns</p>\n",
              "</div>"
            ],
            "text/plain": [
              "      Order ID                     Product Quantity Ordered Price Each  \\\n",
              "0       171654        USB-C Charging Cable                1      11.95   \n",
              "1       171655            Wired Headphones                2      11.99   \n",
              "2       171656  Bose SoundSport Headphones                1      99.99   \n",
              "3       171657            Wired Headphones                1      11.99   \n",
              "4       171658      AAA Batteries (4-pack)                2       2.99   \n",
              "...        ...                         ...              ...        ...   \n",
              "17116   250343            Wired Headphones                1      11.99   \n",
              "17117   250344  Bose SoundSport Headphones                1      99.99   \n",
              "17118   250345      AAA Batteries (4-pack)                3       2.99   \n",
              "17119   250346            Wired Headphones                1      11.99   \n",
              "17120   250347  Bose SoundSport Headphones                1      99.99   \n",
              "\n",
              "           Order Date                       Purchase Address  \n",
              "0      04/22/20 22:27     784 Pine St, Los Angeles, CA 90001  \n",
              "1      04/02/20 15:14         513 North St, Boston, MA 02215  \n",
              "2      04/30/20 20:09    480 Maple St, Los Angeles, CA 90001  \n",
              "3      04/05/20 00:23     5 Pine St, San Francisco, CA 94016  \n",
              "4      04/07/20 10:36    95 Lake St, New York City, NY 10001  \n",
              "...               ...                                    ...  \n",
              "17116  09/13/21 21:20   981 West St, San Francisco, CA 94016  \n",
              "17117  09/15/21 15:41  16 Highland St, Los Angeles, CA 90001  \n",
              "17118  09/15/21 17:13    630 South St, Los Angeles, CA 90001  \n",
              "17119  09/25/21 08:15  626 Adams St, San Francisco, CA 94016  \n",
              "17120  09/01/21 20:17     269 Jefferson St, Boston, MA 02215  \n",
              "\n",
              "[368935 rows x 6 columns]"
            ]
          },
          "execution_count": 19,
          "metadata": {},
          "output_type": "execute_result"
        }
      ],
      "source": [
        "# Import libraries\n",
        "import glob\n",
        "import pandas as pd\n",
        "\n",
        "# Get CSV files from a folder\n",
        "path =  r'C:\\Users\\user\\Desktop\\Sales Data'\n",
        "files_csv = glob.glob(path + \"/*.csv\")\n",
        "\n",
        "# Read each CSV file into DataFrame and list of dataframes\n",
        "df_list = (pd.read_csv(file) for file in files_csv)\n",
        "\n",
        "# Concatenate all DataFrames\n",
        "data   = pd.concat(df_list)\n",
        "data"
      ]
    },
    {
      "cell_type": "markdown",
      "metadata": {
        "id": "xG96E5_cHmfk"
      },
      "source": [
        "***The shape dataset***"
      ]
    },
    {
      "cell_type": "code",
      "execution_count": null,
      "metadata": {
        "id": "Db4VE50HHmfk",
        "outputId": "39937c53-9158-48f5-cff8-39c044c79f1d"
      },
      "outputs": [
        {
          "data": {
            "text/plain": [
              "(368935, 6)"
            ]
          },
          "execution_count": 2,
          "metadata": {},
          "output_type": "execute_result"
        }
      ],
      "source": [
        "data.shape"
      ]
    },
    {
      "cell_type": "markdown",
      "metadata": {
        "id": "uR-vFrH7Hmfl"
      },
      "source": [
        "**Columns of Final Dataset**"
      ]
    },
    {
      "cell_type": "code",
      "execution_count": null,
      "metadata": {
        "id": "j4TcPOGCHmfl",
        "outputId": "a05e148a-8197-4767-ba27-ee5bb715f082"
      },
      "outputs": [
        {
          "data": {
            "text/plain": [
              "Index(['Order ID', 'Product', 'Quantity Ordered', 'Price Each', 'Order Date',\n",
              "       'Purchase Address'],\n",
              "      dtype='object')"
            ]
          },
          "execution_count": 20,
          "metadata": {},
          "output_type": "execute_result"
        }
      ],
      "source": [
        "data.columns"
      ]
    },
    {
      "cell_type": "markdown",
      "metadata": {
        "id": "nfVYfYZ7Hmfm"
      },
      "source": [
        "**Cleaning the data:**\n",
        "\n",
        "1.   **find data Null and Dropping Null Values**\n",
        "\n"
      ]
    },
    {
      "cell_type": "code",
      "execution_count": null,
      "metadata": {
        "id": "iuR0rHN8Hmfm",
        "outputId": "8e9379bd-18a5-4329-bf64-e74ceab53dc3"
      },
      "outputs": [
        {
          "data": {
            "text/plain": [
              "Order ID            1078\n",
              "Product             1078\n",
              "Quantity Ordered    1078\n",
              "Price Each          1078\n",
              "Order Date          1078\n",
              "Purchase Address    1078\n",
              "dtype: int64"
            ]
          },
          "execution_count": 21,
          "metadata": {},
          "output_type": "execute_result"
        }
      ],
      "source": [
        "data.isnull().sum()"
      ]
    },
    {
      "cell_type": "markdown",
      "metadata": {
        "id": "4EofuPLu4zkF"
      },
      "source": [
        "**Use dropna() method for remove data null**"
      ]
    },
    {
      "cell_type": "code",
      "execution_count": null,
      "metadata": {
        "id": "8OEzFwXdHmfn",
        "outputId": "912992a7-c2be-47d5-a9f3-436abd80875b"
      },
      "outputs": [
        {
          "data": {
            "text/plain": [
              "(367857, 6)"
            ]
          },
          "execution_count": 22,
          "metadata": {},
          "output_type": "execute_result"
        }
      ],
      "source": [
        "df= data.dropna()\n",
        "df.shape"
      ]
    },
    {
      "cell_type": "markdown",
      "metadata": {
        "id": "UwuEgnqaHmfo"
      },
      "source": [
        "2.   **Removing Junk Data**\n",
        "\n",
        "we observed that there are 355 columns in which values in rows are the same as the header. so making a new data frame where these values will be excluded."
      ]
    },
    {
      "cell_type": "code",
      "execution_count": null,
      "metadata": {
        "id": "IkaLCrPaHmfo",
        "outputId": "ff1d5df7-cd18-4f67-b9f8-14c9290f5d0d"
      },
      "outputs": [
        {
          "data": {
            "text/plain": [
              "(367210, 6)"
            ]
          },
          "execution_count": 23,
          "metadata": {},
          "output_type": "execute_result"
        }
      ],
      "source": [
        "df = df[df[\"Product\"].str.contains(\"Product\") == False]\n",
        "df.shape"
      ]
    },
    {
      "cell_type": "code",
      "execution_count": null,
      "metadata": {
        "id": "y_PMEd9iHmfo",
        "outputId": "2ea57d5f-afc9-486f-cce5-1073b483a8a5"
      },
      "outputs": [
        {
          "name": "stdout",
          "output_type": "stream",
          "text": [
            "<class 'pandas.core.frame.DataFrame'>\n",
            "Int64Index: 367210 entries, 0 to 17120\n",
            "Data columns (total 6 columns):\n",
            " #   Column            Non-Null Count   Dtype \n",
            "---  ------            --------------   ----- \n",
            " 0   Order ID          367210 non-null  object\n",
            " 1   Product           367210 non-null  object\n",
            " 2   Quantity Ordered  367210 non-null  object\n",
            " 3   Price Each        367210 non-null  object\n",
            " 4   Order Date        367210 non-null  object\n",
            " 5   Purchase Address  367210 non-null  object\n",
            "dtypes: object(6)\n",
            "memory usage: 19.6+ MB\n"
          ]
        }
      ],
      "source": [
        "df.info()"
      ]
    },
    {
      "cell_type": "markdown",
      "metadata": {
        "id": "eMQDg8rqHmfp"
      },
      "source": [
        "**Convert dataType \"object\" such as (Order ID, Quantity Ordered, Price Each) to \"float\", and dataType for (Order Date) to \"date\"**\n"
      ]
    },
    {
      "cell_type": "code",
      "execution_count": null,
      "metadata": {
        "id": "ik7kRdqBHmfp"
      },
      "outputs": [],
      "source": [
        "df[\"Price Each\"] = pd.to_numeric(df[\"Price Each\"], downcast=\"float\")\n",
        "df['Order Date'] =  pd.to_datetime(df['Order Date'])\n",
        "df[\"Quantity Ordered\"] = pd.to_numeric(df[\"Quantity Ordered\"], downcast=\"float\")\n",
        "df[\"Order ID\"] = pd.to_numeric(df[\"Order ID\"], downcast=\"float\")"
      ]
    },
    {
      "cell_type": "code",
      "execution_count": null,
      "metadata": {
        "id": "wpeeXzu4Hmfp",
        "outputId": "06ce9428-325c-41b9-adb2-18beca4d6f92"
      },
      "outputs": [
        {
          "name": "stdout",
          "output_type": "stream",
          "text": [
            "<class 'pandas.core.frame.DataFrame'>\n",
            "Int64Index: 367210 entries, 0 to 17120\n",
            "Data columns (total 6 columns):\n",
            " #   Column            Non-Null Count   Dtype         \n",
            "---  ------            --------------   -----         \n",
            " 0   Order ID          367210 non-null  float32       \n",
            " 1   Product           367210 non-null  object        \n",
            " 2   Quantity Ordered  367210 non-null  float32       \n",
            " 3   Price Each        367210 non-null  float32       \n",
            " 4   Order Date        367210 non-null  datetime64[ns]\n",
            " 5   Purchase Address  367210 non-null  object        \n",
            "dtypes: datetime64[ns](1), float32(3), object(2)\n",
            "memory usage: 15.4+ MB\n"
          ]
        }
      ],
      "source": [
        "df.info()"
      ]
    },
    {
      "cell_type": "markdown",
      "metadata": {
        "id": "0PXlBcL4Hmfq"
      },
      "source": [
        "**Describe numerical data**\n",
        "\n",
        "    descriptive analysis techniques."
      ]
    },
    {
      "cell_type": "code",
      "execution_count": null,
      "metadata": {
        "id": "7WQsD-g6Hmfq",
        "outputId": "2c22f3bf-a319-49dc-8f58-4bfc334c10b8"
      },
      "outputs": [
        {
          "data": {
            "text/plain": [
              "count    367210.000000\n",
              "mean          1.126443\n",
              "std           0.446176\n",
              "min           1.000000\n",
              "25%           1.000000\n",
              "50%           1.000000\n",
              "75%           1.000000\n",
              "max           9.000000\n",
              "Name: Quantity Ordered, dtype: float64"
            ]
          },
          "execution_count": 10,
          "metadata": {},
          "output_type": "execute_result"
        }
      ],
      "source": [
        "df['Quantity Ordered'].describe()"
      ]
    },
    {
      "cell_type": "code",
      "execution_count": null,
      "metadata": {
        "id": "XzT72NV2Hmfq",
        "outputId": "2e0248a0-d87d-4fe2-8e93-943000cc0c76"
      },
      "outputs": [
        {
          "data": {
            "text/plain": [
              "count    367210.000000\n",
              "mean        185.428024\n",
              "std         334.647858\n",
              "min           2.990000\n",
              "25%          11.950000\n",
              "50%          14.950000\n",
              "75%         150.000000\n",
              "max        1700.000000\n",
              "Name: Price Each, dtype: float64"
            ]
          },
          "execution_count": 11,
          "metadata": {},
          "output_type": "execute_result"
        }
      ],
      "source": [
        "df['Price Each'].describe()"
      ]
    },
    {
      "cell_type": "markdown",
      "metadata": {
        "id": "ufHxmdvkHmfr"
      },
      "source": [
        "**find Outliers in cloumns Price Each**"
      ]
    },
    {
      "cell_type": "code",
      "execution_count": null,
      "metadata": {
        "id": "IDzLY6mgHmfr",
        "outputId": "f7c07efd-7dd9-44e1-8b09-2940b3373a8f"
      },
      "outputs": [
        {
          "data": {
            "image/png": "[encoded data removed]",
            "text/plain": [
              "<Figure size 1080x360 with 1 Axes>"
            ]
          },
          "metadata": {
            "needs_background": "light"
          },
          "output_type": "display_data"
        }
      ],
      "source": [
        "import matplotlib.pyplot as plt\n",
        "import seaborn as sns\n",
        "\n",
        "plt.figure(figsize = (15,5))\n",
        "sns.boxplot(data = df, x ='Price Each')\n",
        "plt.title('Total Ratings of the Games', fontsize = 15)\n",
        "plt.show()"
      ]
    },
    {
      "cell_type": "markdown",
      "metadata": {
        "id": "UV0XosBGHmfr"
      },
      "source": [
        "**Create three new columns**:\n",
        "\n",
        "1.   total price (Price Each*Quantity Ordered)\n",
        "2.   Extract the hours,month and year from the Order Date column\n",
        "3.   Extract the city from the Purchase Address column\n"
      ]
    },
    {
      "cell_type": "code",
      "execution_count": null,
      "metadata": {
        "id": "rrRc5P3kHmfr",
        "outputId": "fee7bad0-3ff1-4541-fe00-c34fcc12a9ca"
      },
      "outputs": [
        {
          "data": {
            "text/html": [
              "<div>\n",
              "<style scoped>\n",
              "    .dataframe tbody tr th:only-of-type {\n",
              "        vertical-align: middle;\n",
              "    }\n",
              "\n",
              "    .dataframe tbody tr th {\n",
              "        vertical-align: top;\n",
              "    }\n",
              "\n",
              "    .dataframe thead th {\n",
              "        text-align: right;\n",
              "    }\n",
              "</style>\n",
              "<table border=\"1\" class=\"dataframe\">\n",
              "  <thead>\n",
              "    <tr style=\"text-align: right;\">\n",
              "      <th></th>\n",
              "      <th>Order ID</th>\n",
              "      <th>Product</th>\n",
              "      <th>Quantity Ordered</th>\n",
              "      <th>Price Each</th>\n",
              "      <th>Order Date</th>\n",
              "      <th>Purchase Address</th>\n",
              "      <th>Total Price</th>\n",
              "      <th>month</th>\n",
              "      <th>hours</th>\n",
              "      <th>date</th>\n",
              "      <th>city</th>\n",
              "    </tr>\n",
              "  </thead>\n",
              "  <tbody>\n",
              "    <tr>\n",
              "      <th>0</th>\n",
              "      <td>171654.0</td>\n",
              "      <td>USB-C Charging Cable</td>\n",
              "      <td>1.0</td>\n",
              "      <td>11.950000</td>\n",
              "      <td>2020-04-22 22:27:00</td>\n",
              "      <td>784 Pine St, Los Angeles, CA 90001</td>\n",
              "      <td>11.950000</td>\n",
              "      <td>4</td>\n",
              "      <td>22</td>\n",
              "      <td>2020-04</td>\n",
              "      <td>Los Angeles CA</td>\n",
              "    </tr>\n",
              "    <tr>\n",
              "      <th>1</th>\n",
              "      <td>171655.0</td>\n",
              "      <td>Wired Headphones</td>\n",
              "      <td>2.0</td>\n",
              "      <td>11.990000</td>\n",
              "      <td>2020-04-02 15:14:00</td>\n",
              "      <td>513 North St, Boston, MA 02215</td>\n",
              "      <td>23.980000</td>\n",
              "      <td>4</td>\n",
              "      <td>15</td>\n",
              "      <td>2020-04</td>\n",
              "      <td>Boston MA</td>\n",
              "    </tr>\n",
              "    <tr>\n",
              "      <th>2</th>\n",
              "      <td>171656.0</td>\n",
              "      <td>Bose SoundSport Headphones</td>\n",
              "      <td>1.0</td>\n",
              "      <td>99.989998</td>\n",
              "      <td>2020-04-30 20:09:00</td>\n",
              "      <td>480 Maple St, Los Angeles, CA 90001</td>\n",
              "      <td>99.989998</td>\n",
              "      <td>4</td>\n",
              "      <td>20</td>\n",
              "      <td>2020-04</td>\n",
              "      <td>Los Angeles CA</td>\n",
              "    </tr>\n",
              "    <tr>\n",
              "      <th>3</th>\n",
              "      <td>171657.0</td>\n",
              "      <td>Wired Headphones</td>\n",
              "      <td>1.0</td>\n",
              "      <td>11.990000</td>\n",
              "      <td>2020-04-05 00:23:00</td>\n",
              "      <td>5 Pine St, San Francisco, CA 94016</td>\n",
              "      <td>11.990000</td>\n",
              "      <td>4</td>\n",
              "      <td>0</td>\n",
              "      <td>2020-04</td>\n",
              "      <td>San Francisco CA</td>\n",
              "    </tr>\n",
              "    <tr>\n",
              "      <th>4</th>\n",
              "      <td>171658.0</td>\n",
              "      <td>AAA Batteries (4-pack)</td>\n",
              "      <td>2.0</td>\n",
              "      <td>2.990000</td>\n",
              "      <td>2020-04-07 10:36:00</td>\n",
              "      <td>95 Lake St, New York City, NY 10001</td>\n",
              "      <td>5.980000</td>\n",
              "      <td>4</td>\n",
              "      <td>10</td>\n",
              "      <td>2020-04</td>\n",
              "      <td>New York City NY</td>\n",
              "    </tr>\n",
              "  </tbody>\n",
              "</table>\n",
              "</div>"
            ],
            "text/plain": [
              "   Order ID                     Product  Quantity Ordered  Price Each  \\\n",
              "0  171654.0        USB-C Charging Cable               1.0   11.950000   \n",
              "1  171655.0            Wired Headphones               2.0   11.990000   \n",
              "2  171656.0  Bose SoundSport Headphones               1.0   99.989998   \n",
              "3  171657.0            Wired Headphones               1.0   11.990000   \n",
              "4  171658.0      AAA Batteries (4-pack)               2.0    2.990000   \n",
              "\n",
              "           Order Date                     Purchase Address  Total Price  \\\n",
              "0 2020-04-22 22:27:00   784 Pine St, Los Angeles, CA 90001    11.950000   \n",
              "1 2020-04-02 15:14:00       513 North St, Boston, MA 02215    23.980000   \n",
              "2 2020-04-30 20:09:00  480 Maple St, Los Angeles, CA 90001    99.989998   \n",
              "3 2020-04-05 00:23:00   5 Pine St, San Francisco, CA 94016    11.990000   \n",
              "4 2020-04-07 10:36:00  95 Lake St, New York City, NY 10001     5.980000   \n",
              "\n",
              "   month  hours     date               city  \n",
              "0      4     22  2020-04     Los Angeles CA  \n",
              "1      4     15  2020-04          Boston MA  \n",
              "2      4     20  2020-04     Los Angeles CA  \n",
              "3      4      0  2020-04   San Francisco CA  \n",
              "4      4     10  2020-04   New York City NY  "
            ]
          },
          "execution_count": 27,
          "metadata": {},
          "output_type": "execute_result"
        }
      ],
      "source": [
        "df['Total Price']= df['Quantity Ordered']*df[\"Price Each\"]\n",
        "df[\"month\"]= df[\"Order Date\"].dt.month\n",
        "df[\"hours\"]= df[\"Order Date\"].dt.hour\n",
        "df['date'] = pd.to_datetime(df['Order Date']).dt.to_period('M')\n",
        "def get_city (add): \n",
        "    return add.split(\",\")[1]\n",
        "def get_state(add): \n",
        "    return add.split(\",\")[2].split(\" \")[1]\n",
        "\n",
        "df['city']= df['Purchase Address'].apply(lambda x : get_city(x) +\" \"+ get_state(x))\n",
        "df.head()"
      ]
    },
    {
      "cell_type": "code",
      "execution_count": null,
      "metadata": {
        "id": "6WzmYxM2Hmfs",
        "outputId": "051ba73d-8fdd-47d5-e98a-9c41178b455f"
      },
      "outputs": [
        {
          "name": "stdout",
          "output_type": "stream",
          "text": [
            "<class 'pandas.core.frame.DataFrame'>\n",
            "Int64Index: 367210 entries, 0 to 17120\n",
            "Data columns (total 11 columns):\n",
            " #   Column            Non-Null Count   Dtype         \n",
            "---  ------            --------------   -----         \n",
            " 0   Order ID          367210 non-null  float32       \n",
            " 1   Product           367210 non-null  object        \n",
            " 2   Quantity Ordered  367210 non-null  float32       \n",
            " 3   Price Each        367210 non-null  float32       \n",
            " 4   Order Date        367210 non-null  datetime64[ns]\n",
            " 5   Purchase Address  367210 non-null  object        \n",
            " 6   Total Price       367210 non-null  float32       \n",
            " 7   month             367210 non-null  int64         \n",
            " 8   hours             367210 non-null  int64         \n",
            " 9   date              367210 non-null  period[M]     \n",
            " 10  city              367210 non-null  object        \n",
            "dtypes: datetime64[ns](1), float32(4), int64(2), object(3), period[M](1)\n",
            "memory usage: 28.0+ MB\n"
          ]
        }
      ],
      "source": [
        "df.info()"
      ]
    },
    {
      "cell_type": "markdown",
      "metadata": {
        "id": "GX63yWFqHmfs"
      },
      "source": [
        "**Extract Unique Product and Unique City**"
      ]
    },
    {
      "cell_type": "code",
      "execution_count": null,
      "metadata": {
        "id": "-UgwtF4eHmfs",
        "outputId": "ef0601f7-4729-488e-d797-b512b7fd4d9d"
      },
      "outputs": [
        {
          "name": "stdout",
          "output_type": "stream",
          "text": [
            "[' Los Angeles CA' ' Boston MA' ' San Francisco CA' ' New York City NY'\n",
            " ' Dallas TX' ' Austin TX' ' Seattle WA' ' Portland OR' ' Atlanta GA'\n",
            " ' Portland ME']\n",
            "['USB-C Charging Cable' 'Wired Headphones' 'Bose SoundSport Headphones'\n",
            " 'AAA Batteries (4-pack)' '20in Monitor' 'iPhone' 'Macbook Pro Laptop'\n",
            " 'Apple Airpods Headphones' '34in Ultrawide Monitor'\n",
            " 'AA Batteries (4-pack)' 'Lightning Charging Cable' 'ThinkPad Laptop'\n",
            " 'Flatscreen TV' 'Google Phone' '27in 4K Gaming Monitor' 'LG Dryer'\n",
            " '27in FHD Monitor' 'Vareebadd Phone' 'LG Washing Machine']\n"
          ]
        }
      ],
      "source": [
        "print(pd.unique(df['city']))\n",
        "print(pd.unique(df['Product']))"
      ]
    },
    {
      "cell_type": "markdown",
      "metadata": {
        "id": "fnq9ynuxHmfs"
      },
      "source": [
        "**data analysis:**\n",
        "\n",
        "**Q1. What products sold the most?**  "
      ]
    },
    {
      "cell_type": "code",
      "execution_count": null,
      "metadata": {
        "id": "JmHCXZpsHmft",
        "outputId": "2c938c13-59d8-477e-827a-970031bcc7bf"
      },
      "outputs": [
        {
          "data": {
            "image/png": "[encoded data removed]",
            "text/plain": [
              "<Figure size 1080x360 with 1 Axes>"
            ]
          },
          "metadata": {
            "needs_background": "light"
          },
          "output_type": "display_data"
        }
      ],
      "source": [
        "total_ratings_by_category = df.groupby('Product')['Quantity Ordered'].sum().sort_values(ascending = False)\n",
        "total_ratings_by_category\n",
        "\n",
        "\n",
        "plt.figure(figsize = (15,5))\n",
        "total_ratings_by_category.plot(kind = \"bar\", width = 0.8, color = 'brown', edgecolor = 'yellow')\n",
        "plt.title('Total Quantity Ordered by Product', fontsize = 15)\n",
        "\n",
        "plt.show()"
      ]
    },
    {
      "cell_type": "markdown",
      "metadata": {
        "id": "creWpbnaHmft"
      },
      "source": [
        "**Answer Q1:**\n",
        "\n",
        "---\n",
        "\n",
        "\n",
        "\n",
        "-   AAA Batteries (4-pack) Most sold product, and LG Washing Machine Most less product."
      ]
    },
    {
      "cell_type": "markdown",
      "metadata": {
        "id": "642ZkMEXHmft"
      },
      "source": [
        "**Q2**.   **What is the month with the highest Total Price in the years?**\n"
      ]
    },
    {
      "cell_type": "code",
      "execution_count": null,
      "metadata": {
        "id": "5FSq2H7PHmft",
        "outputId": "ff6ce8e7-fd10-4999-de59-e6468225b2e7"
      },
      "outputs": [
        {
          "data": {
            "image/png": "[encoded data removed]",
            "text/plain": [
              "<Figure size 1080x360 with 1 Axes>"
            ]
          },
          "metadata": {
            "needs_background": "light"
          },
          "output_type": "display_data"
        }
      ],
      "source": [
        "total_ratings_by_category = df.groupby('date')['Total Price'].sum()\n",
        "total_ratings_by_category\n",
        "\n",
        "\n",
        "plt.figure(figsize = (15,5))\n",
        "total_ratings_by_category.plot(kind = \"bar\", width = 0.8, color = 'yellow', edgecolor = 'yellow')\n",
        "plt.title('Total Price by month', fontsize = 15)\n",
        "\n",
        "plt.show()"
      ]
    },
    {
      "cell_type": "markdown",
      "metadata": {
        "id": "j56xMG_oHmft"
      },
      "source": [
        "**Answer Q2:**\n",
        "- The month of 11 and 10, 12 achieved the highest Total Price of the years\n",
        "- The month 2 and 3 achieved the fewer Total Price of the year\n",
        "\n",
        "\n",
        "\n"
      ]
    },
    {
      "cell_type": "markdown",
      "metadata": {
        "id": "CjSuLReTHmfu"
      },
      "source": [
        "**Q3 What is the total price of each product?**"
      ]
    },
    {
      "cell_type": "code",
      "execution_count": null,
      "metadata": {
        "id": "UFvSLx9DHmfu",
        "outputId": "a3201021-d1ae-4053-9d52-cb9ca08119c3"
      },
      "outputs": [
        {
          "data": {
            "text/html": [
              "<div>\n",
              "<style scoped>\n",
              "    .dataframe tbody tr th:only-of-type {\n",
              "        vertical-align: middle;\n",
              "    }\n",
              "\n",
              "    .dataframe tbody tr th {\n",
              "        vertical-align: top;\n",
              "    }\n",
              "\n",
              "    .dataframe thead th {\n",
              "        text-align: right;\n",
              "    }\n",
              "</style>\n",
              "<table border=\"1\" class=\"dataframe\">\n",
              "  <thead>\n",
              "    <tr style=\"text-align: right;\">\n",
              "      <th></th>\n",
              "      <th>Total Price</th>\n",
              "    </tr>\n",
              "    <tr>\n",
              "      <th>Product</th>\n",
              "      <th></th>\n",
              "    </tr>\n",
              "  </thead>\n",
              "  <tbody>\n",
              "    <tr>\n",
              "      <th>Macbook Pro Laptop</th>\n",
              "      <td>16194200.00</td>\n",
              "    </tr>\n",
              "    <tr>\n",
              "      <th>iPhone</th>\n",
              "      <td>9634800.00</td>\n",
              "    </tr>\n",
              "    <tr>\n",
              "      <th>ThinkPad Laptop</th>\n",
              "      <td>8160918.50</td>\n",
              "    </tr>\n",
              "    <tr>\n",
              "      <th>Google Phone</th>\n",
              "      <td>6550200.00</td>\n",
              "    </tr>\n",
              "    <tr>\n",
              "      <th>27in 4K Gaming Monitor</th>\n",
              "      <td>4700549.50</td>\n",
              "    </tr>\n",
              "    <tr>\n",
              "      <th>34in Ultrawide Monitor</th>\n",
              "      <td>4630938.00</td>\n",
              "    </tr>\n",
              "    <tr>\n",
              "      <th>Apple Airpods Headphones</th>\n",
              "      <td>4615650.00</td>\n",
              "    </tr>\n",
              "    <tr>\n",
              "      <th>Flatscreen TV</th>\n",
              "      <td>2854500.00</td>\n",
              "    </tr>\n",
              "    <tr>\n",
              "      <th>Bose SoundSport Headphones</th>\n",
              "      <td>2652334.75</td>\n",
              "    </tr>\n",
              "    <tr>\n",
              "      <th>27in FHD Monitor</th>\n",
              "      <td>2244150.50</td>\n",
              "    </tr>\n",
              "  </tbody>\n",
              "</table>\n",
              "</div>"
            ],
            "text/plain": [
              "                            Total Price\n",
              "Product                                \n",
              "Macbook Pro Laptop          16194200.00\n",
              "iPhone                       9634800.00\n",
              "ThinkPad Laptop              8160918.50\n",
              "Google Phone                 6550200.00\n",
              "27in 4K Gaming Monitor       4700549.50\n",
              "34in Ultrawide Monitor       4630938.00\n",
              "Apple Airpods Headphones     4615650.00\n",
              "Flatscreen TV                2854500.00\n",
              "Bose SoundSport Headphones   2652334.75\n",
              "27in FHD Monitor             2244150.50"
            ]
          },
          "execution_count": 18,
          "metadata": {},
          "output_type": "execute_result"
        }
      ],
      "source": [
        "prod_sales = pd.DataFrame(df.groupby('Product').sum()['Total Price'])\n",
        "prod_sales.sort_values(by=['Total Price'], inplace=True, ascending=False)\n",
        "\n",
        "#Calculating Top 10:\n",
        "top_prods = prod_sales.head(10)\n",
        "top_prods"
      ]
    },
    {
      "cell_type": "markdown",
      "metadata": {
        "id": "pEaXKpCbHmfu"
      },
      "source": [
        "**Answer Q3:**\n",
        "\n",
        "---\n",
        "\n",
        "\n",
        "\n",
        "-    The product Macbook Pro Laptop achieved the highest prices among the products\n",
        "-    The 27in FHD Monitor product also achieved the lowest price among the products\n",
        "\n",
        "\n"
      ]
    },
    {
      "cell_type": "markdown",
      "metadata": {
        "id": "ZOYkw1jGHmfu"
      },
      "source": [
        "**Q4 What is the total Quantity Ordered for each city?**"
      ]
    },
    {
      "cell_type": "code",
      "execution_count": null,
      "metadata": {
        "id": "60behP4YHmfu",
        "outputId": "6db7446b-734c-4f4d-b024-42fd7e3a27b9"
      },
      "outputs": [
        {
          "data": {
            "text/html": [
              "<div>\n",
              "<style scoped>\n",
              "    .dataframe tbody tr th:only-of-type {\n",
              "        vertical-align: middle;\n",
              "    }\n",
              "\n",
              "    .dataframe tbody tr th {\n",
              "        vertical-align: top;\n",
              "    }\n",
              "\n",
              "    .dataframe thead th {\n",
              "        text-align: right;\n",
              "    }\n",
              "</style>\n",
              "<table border=\"1\" class=\"dataframe\">\n",
              "  <thead>\n",
              "    <tr style=\"text-align: right;\">\n",
              "      <th></th>\n",
              "      <th>Quantity Ordered</th>\n",
              "    </tr>\n",
              "    <tr>\n",
              "      <th>city</th>\n",
              "      <th></th>\n",
              "    </tr>\n",
              "  </thead>\n",
              "  <tbody>\n",
              "    <tr>\n",
              "      <th>San Francisco CA</th>\n",
              "      <td>99744.0</td>\n",
              "    </tr>\n",
              "    <tr>\n",
              "      <th>Los Angeles CA</th>\n",
              "      <td>66474.0</td>\n",
              "    </tr>\n",
              "    <tr>\n",
              "      <th>New York City NY</th>\n",
              "      <td>55078.0</td>\n",
              "    </tr>\n",
              "    <tr>\n",
              "      <th>Boston MA</th>\n",
              "      <td>43967.0</td>\n",
              "    </tr>\n",
              "    <tr>\n",
              "      <th>Atlanta GA</th>\n",
              "      <td>33077.0</td>\n",
              "    </tr>\n",
              "    <tr>\n",
              "      <th>Seattle WA</th>\n",
              "      <td>33009.0</td>\n",
              "    </tr>\n",
              "    <tr>\n",
              "      <th>Dallas TX</th>\n",
              "      <td>32815.0</td>\n",
              "    </tr>\n",
              "    <tr>\n",
              "      <th>Portland OR</th>\n",
              "      <td>22007.0</td>\n",
              "    </tr>\n",
              "    <tr>\n",
              "      <th>Austin TX</th>\n",
              "      <td>21924.0</td>\n",
              "    </tr>\n",
              "    <tr>\n",
              "      <th>Portland ME</th>\n",
              "      <td>5546.0</td>\n",
              "    </tr>\n",
              "  </tbody>\n",
              "</table>\n",
              "</div>"
            ],
            "text/plain": [
              "                   Quantity Ordered\n",
              "city                               \n",
              " San Francisco CA           99744.0\n",
              " Los Angeles CA             66474.0\n",
              " New York City NY           55078.0\n",
              " Boston MA                  43967.0\n",
              " Atlanta GA                 33077.0\n",
              " Seattle WA                 33009.0\n",
              " Dallas TX                  32815.0\n",
              " Portland OR                22007.0\n",
              " Austin TX                  21924.0\n",
              " Portland ME                 5546.0"
            ]
          },
          "execution_count": 19,
          "metadata": {},
          "output_type": "execute_result"
        }
      ],
      "source": [
        "prod_sales = pd.DataFrame(df.groupby('city').sum()['Quantity Ordered'])\n",
        "prod_sales.sort_values(by=['Quantity Ordered'], inplace=True, ascending=False)\n",
        "\n",
        "#Calculating Top 10:\n",
        "top_prods = prod_sales.head(10)\n",
        "top_prods"
      ]
    },
    {
      "cell_type": "markdown",
      "metadata": {
        "id": "iZx9UIjpHmfv"
      },
      "source": [
        "**Answer Q4:**\n",
        "\n",
        "---\n",
        "\n",
        "\n",
        "- San Francisco CA and Los Angeles CA are the cities in most orders for products\n",
        "\n",
        "\n",
        "- Austin TX and Portland ME are the cities in the least orders for products"
      ]
    },
    {
      "cell_type": "markdown",
      "metadata": {
        "id": "F50qRM6IHmfv"
      },
      "source": [
        "**Q5 Which city had the highest number of Total Price?**"
      ]
    },
    {
      "cell_type": "code",
      "execution_count": null,
      "metadata": {
        "id": "-r7sQvbzHmfv",
        "outputId": "b908be11-6149-41ae-cf54-f589cb097599"
      },
      "outputs": [
        {
          "data": {
            "image/png": "[encoded data removed]",
            "text/plain": [
              "<Figure size 1080x360 with 1 Axes>"
            ]
          },
          "metadata": {
            "needs_background": "light"
          },
          "output_type": "display_data"
        }
      ],
      "source": [
        "total_ratings_by_category = df.groupby('city')['Total Price'].sum().sort_values(ascending = False)\n",
        "total_ratings_by_category\n",
        "\n",
        "\n",
        "plt.figure(figsize = (15,5))\n",
        "total_ratings_by_category.plot(kind = \"bar\", width = 0.5, color = 'green', edgecolor = 'yellow')\n",
        "plt.title('Total Price by city', fontsize = 15)\n",
        "\n",
        "plt.show()"
      ]
    },
    {
      "cell_type": "markdown",
      "metadata": {
        "id": "MHo7rs-OHmfv"
      },
      "source": [
        "**Answer Q5:**\n",
        "\n",
        "---\n",
        "\n",
        "\n",
        "- San Francisco and Los Angeles CA have the highest sales Total Price \n",
        "\n",
        "- Austin TX and Portland ME have the least sales Total Price "
      ]
    },
    {
      "cell_type": "markdown",
      "metadata": {
        "id": "cfOHu4yPHmfv"
      },
      "source": [
        "**Q6 What is the most popular time to buy?**"
      ]
    },
    {
      "cell_type": "code",
      "execution_count": null,
      "metadata": {
        "id": "DFTppx6wHmfv",
        "outputId": "c7e1be0f-a7be-48dd-f3a8-cf0efb9c54a0"
      },
      "outputs": [
        {
          "data": {
            "image/png": "[encoded data removed]",
            "text/plain": [
              "<Figure size 1080x360 with 1 Axes>"
            ]
          },
          "metadata": {
            "needs_background": "light"
          },
          "output_type": "display_data"
        }
      ],
      "source": [
        "total_ratings_by_category = df.groupby('hours')['Quantity Ordered'].sum().sort_values(ascending = False)\n",
        "total_ratings_by_category\n",
        "\n",
        "\n",
        "plt.figure(figsize = (15,5))\n",
        "total_ratings_by_category.plot(kind = \"bar\", width = 0.5, color = 'green', edgecolor = 'yellow')\n",
        "plt.title('Total price by city', fontsize = 15)\n",
        "\n",
        "plt.show()"
      ]
    },
    {
      "cell_type": "markdown",
      "metadata": {
        "id": "sDcV_1DhHmfw"
      },
      "source": [
        "**Answer Q6:**\n",
        "\n",
        "---\n",
        "\n",
        "\n",
        "- Products are bought at 12 and 19 o'clock mostly\n",
        "- The figure shows that in the late hours of the night and in the morning hours, sales are less."
      ]
    },
    {
      "cell_type": "markdown",
      "metadata": {
        "id": "OX2z2t2stZw2"
      },
      "source": [
        "**Q7**.   **What is the month with the highest Quantity Ordered in the years?**\n"
      ]
    },
    {
      "cell_type": "code",
      "execution_count": null,
      "metadata": {
        "id": "5fLv8DRTtZw2",
        "outputId": "80cfa8de-4150-4469-9501-28c8e753c58b"
      },
      "outputs": [
        {
          "data": {
            "image/png": "[encoded data removed]",
            "text/plain": [
              "<Figure size 1080x360 with 1 Axes>"
            ]
          },
          "metadata": {
            "needs_background": "light"
          },
          "output_type": "display_data"
        }
      ],
      "source": [
        "total_ratings = df.groupby('date')['Quantity Ordered'].sum()\n",
        "total_ratings\n",
        "\n",
        "\n",
        "plt.figure(figsize = (15,5))\n",
        "total_ratings.plot(kind = \"bar\", width = 0.8, color = 'black', edgecolor = 'yellow')\n",
        "plt.title('Quantity Ordered by month in year', fontsize = 15)\n",
        "\n",
        "plt.show()"
      ]
    },
    {
      "cell_type": "markdown",
      "metadata": {
        "id": "4EFb3trwtZw3"
      },
      "source": [
        "**Answer Q7:**\n",
        "- The month of 11 and 10, 12 achieved the highest Quantity Ordered of the years\n",
        "- The month 2 and 3 achieved the fewer Quantity Ordered of the years"
      ]
    },
    {
      "cell_type": "markdown",
      "metadata": {
        "id": "gmhzA8rpOSlg"
      },
      "source": [
        "**Q8 What is it Average monthly sales and the Last 12 months?**"
      ]
    },
    {
      "cell_type": "code",
      "execution_count": null,
      "metadata": {
        "id": "R-WCAfXiHmf1",
        "outputId": "1fff5d12-33c6-424a-b57a-72bd6190d7de"
      },
      "outputs": [
        {
          "name": "stdout",
          "output_type": "stream",
          "text": [
            "Overall average monthly Price: $186.50051879882812\n",
            "Last 12 months average monthly Price: $205.3199920654297\n"
          ]
        }
      ],
      "source": [
        "avg_monthly_sales = dataset['Total Price'].mean()\n",
        "print(f\"Overall average monthly Price: ${avg_monthly_sales}\")\n",
        "\n",
        "avg_monthly_sales_12month = dataset['Total Price'][-12:].mean()\n",
        "print(f\"Last 12 months average monthly Price: ${avg_monthly_sales_12month}\")"
      ]
    },
    {
      "cell_type": "markdown",
      "metadata": {
        "id": "jC7Vo4LPObqt"
      },
      "source": [
        "**Q9 what Duration of a dataset in years and days?**"
      ]
    },
    {
      "cell_type": "code",
      "execution_count": null,
      "metadata": {
        "id": "5ZW9cxGDHmf1",
        "outputId": "6865eb11-1806-4ed2-d49f-091cff735273"
      },
      "outputs": [
        {
          "name": "stdout",
          "output_type": "stream",
          "text": [
            "731 days\n",
            "2.0027397260273974 years\n"
          ]
        },
        {
          "name": "stderr",
          "output_type": "stream",
          "text": [
            "C:\\ProgramData\\Anaconda3\\lib\\site-packages\\pandas\\core\\generic.py:5168: SettingWithCopyWarning: \n",
            "A value is trying to be set on a copy of a slice from a DataFrame.\n",
            "Try using .loc[row_indexer,col_indexer] = value instead\n",
            "\n",
            "See the caveats in the documentation: https://pandas.pydata.org/pandas-docs/stable/user_guide/indexing.html#returning-a-view-versus-a-copy\n",
            "  self[name] = value\n"
          ]
        }
      ],
      "source": [
        "def sales_duration(data):\n",
        "    data.date = pd.to_datetime(data.date)\n",
        "    number_of_days = data.date.max() - data.date.min()\n",
        "    number_of_years = number_of_days.days / 365\n",
        "    print(number_of_days.days, 'days')\n",
        "    print(number_of_years, 'years')\n",
        "    \n",
        "sales_duration(dataset)"
      ]
    },
    {
      "cell_type": "code",
      "execution_count": null,
      "metadata": {
        "id": "3PHMoHihO3os"
      },
      "outputs": [],
      "source": [
        ""
      ]
    },
    {
      "cell_type": "code",
      "execution_count": null,
      "metadata": {
        "id": "X2HzvyXcO3rm"
      },
      "outputs": [],
      "source": [
        ""
      ]
    },
    {
      "cell_type": "markdown",
      "metadata": {
        "id": "md7G6QMWO4HT"
      },
      "source": [
        "**Linear Regression**"
      ]
    },
    {
      "cell_type": "markdown",
      "metadata": {
        "id": "heHo_tbnPVyg"
      },
      "source": [
        "**Correlation**"
      ]
    },
    {
      "cell_type": "code",
      "execution_count": null,
      "metadata": {
        "id": "W4g8THB3Hmfx",
        "outputId": "7ab35302-f784-4f20-ec10-c47a35c078e1"
      },
      "outputs": [
        {
          "data": {
            "text/html": [
              "<div>\n",
              "<style scoped>\n",
              "    .dataframe tbody tr th:only-of-type {\n",
              "        vertical-align: middle;\n",
              "    }\n",
              "\n",
              "    .dataframe tbody tr th {\n",
              "        vertical-align: top;\n",
              "    }\n",
              "\n",
              "    .dataframe thead th {\n",
              "        text-align: right;\n",
              "    }\n",
              "</style>\n",
              "<table border=\"1\" class=\"dataframe\">\n",
              "  <thead>\n",
              "    <tr style=\"text-align: right;\">\n",
              "      <th></th>\n",
              "      <th>Order ID</th>\n",
              "      <th>Quantity Ordered</th>\n",
              "      <th>Price Each</th>\n",
              "      <th>Total Price</th>\n",
              "      <th>month</th>\n",
              "      <th>hours</th>\n",
              "    </tr>\n",
              "  </thead>\n",
              "  <tbody>\n",
              "    <tr>\n",
              "      <th>Order ID</th>\n",
              "      <td>1.000000</td>\n",
              "      <td>0.001949</td>\n",
              "      <td>0.000724</td>\n",
              "      <td>0.000709</td>\n",
              "      <td>0.978539</td>\n",
              "      <td>-0.000190</td>\n",
              "    </tr>\n",
              "    <tr>\n",
              "      <th>Quantity Ordered</th>\n",
              "      <td>0.001949</td>\n",
              "      <td>1.000000</td>\n",
              "      <td>-0.149402</td>\n",
              "      <td>-0.140554</td>\n",
              "      <td>0.001437</td>\n",
              "      <td>0.000825</td>\n",
              "    </tr>\n",
              "    <tr>\n",
              "      <th>Price Each</th>\n",
              "      <td>0.000724</td>\n",
              "      <td>-0.149402</td>\n",
              "      <td>1.000000</td>\n",
              "      <td>0.999212</td>\n",
              "      <td>0.000702</td>\n",
              "      <td>-0.000901</td>\n",
              "    </tr>\n",
              "    <tr>\n",
              "      <th>Total Price</th>\n",
              "      <td>0.000709</td>\n",
              "      <td>-0.140554</td>\n",
              "      <td>0.999212</td>\n",
              "      <td>1.000000</td>\n",
              "      <td>0.000682</td>\n",
              "      <td>-0.000947</td>\n",
              "    </tr>\n",
              "    <tr>\n",
              "      <th>month</th>\n",
              "      <td>0.978539</td>\n",
              "      <td>0.001437</td>\n",
              "      <td>0.000702</td>\n",
              "      <td>0.000682</td>\n",
              "      <td>1.000000</td>\n",
              "      <td>0.000297</td>\n",
              "    </tr>\n",
              "    <tr>\n",
              "      <th>hours</th>\n",
              "      <td>-0.000190</td>\n",
              "      <td>0.000825</td>\n",
              "      <td>-0.000901</td>\n",
              "      <td>-0.000947</td>\n",
              "      <td>0.000297</td>\n",
              "      <td>1.000000</td>\n",
              "    </tr>\n",
              "  </tbody>\n",
              "</table>\n",
              "</div>"
            ],
            "text/plain": [
              "                  Order ID  Quantity Ordered  Price Each  Total Price  \\\n",
              "Order ID          1.000000          0.001949    0.000724     0.000709   \n",
              "Quantity Ordered  0.001949          1.000000   -0.149402    -0.140554   \n",
              "Price Each        0.000724         -0.149402    1.000000     0.999212   \n",
              "Total Price       0.000709         -0.140554    0.999212     1.000000   \n",
              "month             0.978539          0.001437    0.000702     0.000682   \n",
              "hours            -0.000190          0.000825   -0.000901    -0.000947   \n",
              "\n",
              "                     month     hours  \n",
              "Order ID          0.978539 -0.000190  \n",
              "Quantity Ordered  0.001437  0.000825  \n",
              "Price Each        0.000702 -0.000901  \n",
              "Total Price       0.000682 -0.000947  \n",
              "month             1.000000  0.000297  \n",
              "hours             0.000297  1.000000  "
            ]
          },
          "execution_count": 26,
          "metadata": {},
          "output_type": "execute_result"
        }
      ],
      "source": [
        "df.corr()"
      ]
    },
    {
      "cell_type": "markdown",
      "metadata": {
        "id": "PIoksRseQB2I"
      },
      "source": [
        "\n",
        "\n",
        "1.  **Correlation between Order ID and month 0.97 which is very high**.\n",
        "\n",
        "2.   **Correlation between Price Each and Quantity Ordered is -0.149402\t which is lowest one.**\n",
        "\n",
        "\n"
      ]
    },
    {
      "cell_type": "markdown",
      "metadata": {
        "id": "yK1Wt3o3Qi8V"
      },
      "source": [
        "**Data Visualisation: month vs Order ID**"
      ]
    },
    {
      "cell_type": "code",
      "execution_count": null,
      "metadata": {
        "id": "pt3MtaY_Hmfy",
        "outputId": "efd0958f-74dd-4168-f90d-1ca387e76fd8"
      },
      "outputs": [
        {
          "data": {
            "text/plain": [
              "<AxesSubplot:xlabel='month', ylabel='Order ID'>"
            ]
          },
          "execution_count": 27,
          "metadata": {},
          "output_type": "execute_result"
        },
        {
          "data": {
            "image/png": "[encoded data removed]",
            "text/plain": [
              "<Figure size 432x288 with 1 Axes>"
            ]
          },
          "metadata": {
            "needs_background": "light"
          },
          "output_type": "display_data"
        }
      ],
      "source": [
        "sns.regplot(x='month', y='Order ID', data=df)"
      ]
    },
    {
      "cell_type": "markdown",
      "metadata": {
        "id": "PxFLi1-JQvJm"
      },
      "source": [
        "**Data Visualisation: Total Price vs Price Each**"
      ]
    },
    {
      "cell_type": "code",
      "execution_count": null,
      "metadata": {
        "id": "H7RqZkQJHmfz",
        "outputId": "6d3be31b-9806-49d4-b321-e29d18ff508e"
      },
      "outputs": [
        {
          "data": {
            "text/plain": [
              "<AxesSubplot:xlabel='Total Price', ylabel='Price Each'>"
            ]
          },
          "execution_count": 29,
          "metadata": {},
          "output_type": "execute_result"
        },
        {
          "data": {
            "image/png": "[encoded data removed]",
            "text/plain": [
              "<Figure size 432x288 with 1 Axes>"
            ]
          },
          "metadata": {
            "needs_background": "light"
          },
          "output_type": "display_data"
        }
      ],
      "source": [
        "sns.regplot(x='Total Price', y='Price Each', data=df)"
      ]
    },
    {
      "cell_type": "markdown",
      "metadata": {
        "id": "Yuu7YyC4QufV"
      },
      "source": [
        ""
      ]
    },
    {
      "cell_type": "code",
      "execution_count": null,
      "metadata": {
        "id": "ZhNT8aiZHmfz"
      },
      "outputs": [],
      "source": [
        "#importing required Library \n",
        "\n",
        "import numpy as np\n",
        "\n",
        "import pandas as pd\n",
        "\n",
        "import matplotlib.pyplot as plt\n",
        "\n",
        "import seaborn as sns\n",
        "import statsmodels\n",
        "\n",
        "import statsmodels.api as sm\n",
        "\n",
        "import sklearn\n",
        "\n",
        "from sklearn.model_selection import train_test_split"
      ]
    },
    {
      "cell_type": "markdown",
      "metadata": {
        "id": "f-JEVlogQ6om"
      },
      "source": [
        "**Create X and y**\n",
        "\n",
        " **Create Train and Test sets**"
      ]
    },
    {
      "cell_type": "code",
      "execution_count": null,
      "metadata": {
        "id": "D8rUbaxVHmf0"
      },
      "outputs": [],
      "source": [
        "X=df['month']\n",
        "\n",
        "y=df['Order ID']\n",
        "\n",
        "X_train, X_test, y_train, y_test= train_test_split(X,y, train_size=0.70, random_state=100)"
      ]
    },
    {
      "cell_type": "markdown",
      "metadata": {
        "id": "YUdypmTfRKPE"
      },
      "source": [
        "**Training the model on training set (i.e. learn the coefficient) Using StatsModels**"
      ]
    },
    {
      "cell_type": "code",
      "execution_count": null,
      "metadata": {
        "id": "1sSiXILuHmf0",
        "outputId": "5e9860b5-6cc4-4992-be9a-c3332dca9d7c"
      },
      "outputs": [
        {
          "data": {
            "text/plain": [
              "const    123340.487648\n",
              "month     14330.541656\n",
              "dtype: float64"
            ]
          },
          "execution_count": 33,
          "metadata": {},
          "output_type": "execute_result"
        }
      ],
      "source": [
        "X_train_sm=sm.add_constant(X_train)\n",
        "\n",
        "X_train_sm.head()\n",
        "\n",
        "\n",
        "lr=sm.OLS(y_train, X_train_sm)\n",
        "\n",
        "lr_model=lr.fit()\n",
        "\n",
        "lr_model.params"
      ]
    },
    {
      "cell_type": "code",
      "execution_count": null,
      "metadata": {
        "id": "sF6qN0krHmf0",
        "outputId": "a2af694f-06a4-40fc-cc49-fb0a9a4f55fd"
      },
      "outputs": [
        {
          "data": {
            "text/html": [
              "<table class=\"simpletable\">\n",
              "<caption>OLS Regression Results</caption>\n",
              "<tr>\n",
              "  <th>Dep. Variable:</th>        <td>Order ID</td>     <th>  R-squared:         </th>  <td>   0.958</td>  \n",
              "</tr>\n",
              "<tr>\n",
              "  <th>Model:</th>                   <td>OLS</td>       <th>  Adj. R-squared:    </th>  <td>   0.958</td>  \n",
              "</tr>\n",
              "<tr>\n",
              "  <th>Method:</th>             <td>Least Squares</td>  <th>  F-statistic:       </th>  <td>5.812e+06</td> \n",
              "</tr>\n",
              "<tr>\n",
              "  <th>Date:</th>             <td>Sat, 23 Apr 2022</td> <th>  Prob (F-statistic):</th>   <td>  0.00</td>   \n",
              "</tr>\n",
              "<tr>\n",
              "  <th>Time:</th>                 <td>02:28:19</td>     <th>  Log-Likelihood:    </th> <td>-2.7467e+06</td>\n",
              "</tr>\n",
              "<tr>\n",
              "  <th>No. Observations:</th>      <td>257046</td>      <th>  AIC:               </th>  <td>5.493e+06</td> \n",
              "</tr>\n",
              "<tr>\n",
              "  <th>Df Residuals:</th>          <td>257044</td>      <th>  BIC:               </th>  <td>5.494e+06</td> \n",
              "</tr>\n",
              "<tr>\n",
              "  <th>Df Model:</th>              <td>     1</td>      <th>                     </th>      <td> </td>     \n",
              "</tr>\n",
              "<tr>\n",
              "  <th>Covariance Type:</th>      <td>nonrobust</td>    <th>                     </th>      <td> </td>     \n",
              "</tr>\n",
              "</table>\n",
              "<table class=\"simpletable\">\n",
              "<tr>\n",
              "    <td></td>       <th>coef</th>     <th>std err</th>      <th>t</th>      <th>P>|t|</th>  <th>[0.025</th>    <th>0.975]</th>  \n",
              "</tr>\n",
              "<tr>\n",
              "  <th>const</th> <td> 1.233e+05</td> <td>   48.762</td> <td> 2529.452</td> <td> 0.000</td> <td> 1.23e+05</td> <td> 1.23e+05</td>\n",
              "</tr>\n",
              "<tr>\n",
              "  <th>month</th> <td> 1.433e+04</td> <td>    5.944</td> <td> 2410.873</td> <td> 0.000</td> <td> 1.43e+04</td> <td> 1.43e+04</td>\n",
              "</tr>\n",
              "</table>\n",
              "<table class=\"simpletable\">\n",
              "<tr>\n",
              "  <th>Omnibus:</th>       <td>118776.787</td> <th>  Durbin-Watson:     </th>  <td>   2.004</td>  \n",
              "</tr>\n",
              "<tr>\n",
              "  <th>Prob(Omnibus):</th>   <td> 0.000</td>   <th>  Jarque-Bera (JB):  </th> <td>3107882.520</td>\n",
              "</tr>\n",
              "<tr>\n",
              "  <th>Skew:</th>            <td> 1.667</td>   <th>  Prob(JB):          </th>  <td>    0.00</td>  \n",
              "</tr>\n",
              "<tr>\n",
              "  <th>Kurtosis:</th>        <td>19.705</td>   <th>  Cond. No.          </th>  <td>    19.4</td>  \n",
              "</tr>\n",
              "</table><br/><br/>Notes:<br/>[1] Standard Errors assume that the covariance matrix of the errors is correctly specified."
            ],
            "text/plain": [
              "<class 'statsmodels.iolib.summary.Summary'>\n",
              "\"\"\"\n",
              "                            OLS Regression Results                            \n",
              "==============================================================================\n",
              "Dep. Variable:               Order ID   R-squared:                       0.958\n",
              "Model:                            OLS   Adj. R-squared:                  0.958\n",
              "Method:                 Least Squares   F-statistic:                 5.812e+06\n",
              "Date:                Sat, 23 Apr 2022   Prob (F-statistic):               0.00\n",
              "Time:                        02:28:19   Log-Likelihood:            -2.7467e+06\n",
              "No. Observations:              257046   AIC:                         5.493e+06\n",
              "Df Residuals:                  257044   BIC:                         5.494e+06\n",
              "Df Model:                           1                                         \n",
              "Covariance Type:            nonrobust                                         \n",
              "==============================================================================\n",
              "                 coef    std err          t      P>|t|      [0.025      0.975]\n",
              "------------------------------------------------------------------------------\n",
              "const       1.233e+05     48.762   2529.452      0.000    1.23e+05    1.23e+05\n",
              "month       1.433e+04      5.944   2410.873      0.000    1.43e+04    1.43e+04\n",
              "==============================================================================\n",
              "Omnibus:                   118776.787   Durbin-Watson:                   2.004\n",
              "Prob(Omnibus):                  0.000   Jarque-Bera (JB):          3107882.520\n",
              "Skew:                           1.667   Prob(JB):                         0.00\n",
              "Kurtosis:                      19.705   Cond. No.                         19.4\n",
              "==============================================================================\n",
              "\n",
              "Notes:\n",
              "[1] Standard Errors assume that the covariance matrix of the errors is correctly specified.\n",
              "\"\"\""
            ]
          },
          "execution_count": 34,
          "metadata": {},
          "output_type": "execute_result"
        }
      ],
      "source": [
        "lr_model.summary()"
      ]
    },
    {
      "cell_type": "markdown",
      "metadata": {
        "id": "NQ6ZE_P5jw7A"
      },
      "source": [
        "ٌ**Result:**\n",
        "\n",
        "The month has a positive and statistically significant effect on the order, and this result means that by changing the month by one unit, the order will increase by 14330. It is also found that the Durbin-Watson test reached 2.004 and this value indicates that the model does not contain autocorrelation problems. The Prob(F-statistic) was 0.00 and less than 0.05, which means that the model is statistically significant.\n",
        "\n"
      ]
    },
    {
      "cell_type": "code",
      "execution_count": null,
      "metadata": {
        "id": "V5Wvp2ofHmf1",
        "outputId": "d9d999e7-a713-4179-f824-14074e9d1e3d"
      },
      "outputs": [
        {
          "data": {
            "text/html": [
              "<div>\n",
              "<style scoped>\n",
              "    .dataframe tbody tr th:only-of-type {\n",
              "        vertical-align: middle;\n",
              "    }\n",
              "\n",
              "    .dataframe tbody tr th {\n",
              "        vertical-align: top;\n",
              "    }\n",
              "\n",
              "    .dataframe thead th {\n",
              "        text-align: right;\n",
              "    }\n",
              "</style>\n",
              "<table border=\"1\" class=\"dataframe\">\n",
              "  <thead>\n",
              "    <tr style=\"text-align: right;\">\n",
              "      <th></th>\n",
              "      <th>Order ID</th>\n",
              "      <th>Product</th>\n",
              "      <th>Quantity Ordered</th>\n",
              "      <th>Price Each</th>\n",
              "      <th>Order Date</th>\n",
              "      <th>Purchase Address</th>\n",
              "      <th>Total Price</th>\n",
              "      <th>month</th>\n",
              "      <th>hours</th>\n",
              "      <th>city</th>\n",
              "      <th>date</th>\n",
              "    </tr>\n",
              "  </thead>\n",
              "  <tbody>\n",
              "    <tr>\n",
              "      <th>0</th>\n",
              "      <td>171654.0</td>\n",
              "      <td>USB-C Charging Cable</td>\n",
              "      <td>1.0</td>\n",
              "      <td>11.950000</td>\n",
              "      <td>2020-04-22 22:27:00</td>\n",
              "      <td>784 Pine St, Los Angeles, CA 90001</td>\n",
              "      <td>11.950000</td>\n",
              "      <td>4</td>\n",
              "      <td>22</td>\n",
              "      <td>Los Angeles CA</td>\n",
              "      <td>2020-04-22</td>\n",
              "    </tr>\n",
              "    <tr>\n",
              "      <th>1</th>\n",
              "      <td>171655.0</td>\n",
              "      <td>Wired Headphones</td>\n",
              "      <td>2.0</td>\n",
              "      <td>11.990000</td>\n",
              "      <td>2020-04-02 15:14:00</td>\n",
              "      <td>513 North St, Boston, MA 02215</td>\n",
              "      <td>23.980000</td>\n",
              "      <td>4</td>\n",
              "      <td>15</td>\n",
              "      <td>Boston MA</td>\n",
              "      <td>2020-04-02</td>\n",
              "    </tr>\n",
              "    <tr>\n",
              "      <th>2</th>\n",
              "      <td>171656.0</td>\n",
              "      <td>Bose SoundSport Headphones</td>\n",
              "      <td>1.0</td>\n",
              "      <td>99.989998</td>\n",
              "      <td>2020-04-30 20:09:00</td>\n",
              "      <td>480 Maple St, Los Angeles, CA 90001</td>\n",
              "      <td>99.989998</td>\n",
              "      <td>4</td>\n",
              "      <td>20</td>\n",
              "      <td>Los Angeles CA</td>\n",
              "      <td>2020-04-30</td>\n",
              "    </tr>\n",
              "    <tr>\n",
              "      <th>3</th>\n",
              "      <td>171657.0</td>\n",
              "      <td>Wired Headphones</td>\n",
              "      <td>1.0</td>\n",
              "      <td>11.990000</td>\n",
              "      <td>2020-04-05 00:23:00</td>\n",
              "      <td>5 Pine St, San Francisco, CA 94016</td>\n",
              "      <td>11.990000</td>\n",
              "      <td>4</td>\n",
              "      <td>0</td>\n",
              "      <td>San Francisco CA</td>\n",
              "      <td>2020-04-05</td>\n",
              "    </tr>\n",
              "    <tr>\n",
              "      <th>4</th>\n",
              "      <td>171658.0</td>\n",
              "      <td>AAA Batteries (4-pack)</td>\n",
              "      <td>2.0</td>\n",
              "      <td>2.990000</td>\n",
              "      <td>2020-04-07 10:36:00</td>\n",
              "      <td>95 Lake St, New York City, NY 10001</td>\n",
              "      <td>5.980000</td>\n",
              "      <td>4</td>\n",
              "      <td>10</td>\n",
              "      <td>New York City NY</td>\n",
              "      <td>2020-04-07</td>\n",
              "    </tr>\n",
              "    <tr>\n",
              "      <th>...</th>\n",
              "      <td>...</td>\n",
              "      <td>...</td>\n",
              "      <td>...</td>\n",
              "      <td>...</td>\n",
              "      <td>...</td>\n",
              "      <td>...</td>\n",
              "      <td>...</td>\n",
              "      <td>...</td>\n",
              "      <td>...</td>\n",
              "      <td>...</td>\n",
              "      <td>...</td>\n",
              "    </tr>\n",
              "    <tr>\n",
              "      <th>17116</th>\n",
              "      <td>250343.0</td>\n",
              "      <td>Wired Headphones</td>\n",
              "      <td>1.0</td>\n",
              "      <td>11.990000</td>\n",
              "      <td>2021-09-13 21:20:00</td>\n",
              "      <td>981 West St, San Francisco, CA 94016</td>\n",
              "      <td>11.990000</td>\n",
              "      <td>9</td>\n",
              "      <td>21</td>\n",
              "      <td>San Francisco CA</td>\n",
              "      <td>2021-09-13</td>\n",
              "    </tr>\n",
              "    <tr>\n",
              "      <th>17117</th>\n",
              "      <td>250344.0</td>\n",
              "      <td>Bose SoundSport Headphones</td>\n",
              "      <td>1.0</td>\n",
              "      <td>99.989998</td>\n",
              "      <td>2021-09-15 15:41:00</td>\n",
              "      <td>16 Highland St, Los Angeles, CA 90001</td>\n",
              "      <td>99.989998</td>\n",
              "      <td>9</td>\n",
              "      <td>15</td>\n",
              "      <td>Los Angeles CA</td>\n",
              "      <td>2021-09-15</td>\n",
              "    </tr>\n",
              "    <tr>\n",
              "      <th>17118</th>\n",
              "      <td>250345.0</td>\n",
              "      <td>AAA Batteries (4-pack)</td>\n",
              "      <td>3.0</td>\n",
              "      <td>2.990000</td>\n",
              "      <td>2021-09-15 17:13:00</td>\n",
              "      <td>630 South St, Los Angeles, CA 90001</td>\n",
              "      <td>8.970000</td>\n",
              "      <td>9</td>\n",
              "      <td>17</td>\n",
              "      <td>Los Angeles CA</td>\n",
              "      <td>2021-09-15</td>\n",
              "    </tr>\n",
              "    <tr>\n",
              "      <th>17119</th>\n",
              "      <td>250346.0</td>\n",
              "      <td>Wired Headphones</td>\n",
              "      <td>1.0</td>\n",
              "      <td>11.990000</td>\n",
              "      <td>2021-09-25 08:15:00</td>\n",
              "      <td>626 Adams St, San Francisco, CA 94016</td>\n",
              "      <td>11.990000</td>\n",
              "      <td>9</td>\n",
              "      <td>8</td>\n",
              "      <td>San Francisco CA</td>\n",
              "      <td>2021-09-25</td>\n",
              "    </tr>\n",
              "    <tr>\n",
              "      <th>17120</th>\n",
              "      <td>250347.0</td>\n",
              "      <td>Bose SoundSport Headphones</td>\n",
              "      <td>1.0</td>\n",
              "      <td>99.989998</td>\n",
              "      <td>2021-09-01 20:17:00</td>\n",
              "      <td>269 Jefferson St, Boston, MA 02215</td>\n",
              "      <td>99.989998</td>\n",
              "      <td>9</td>\n",
              "      <td>20</td>\n",
              "      <td>Boston MA</td>\n",
              "      <td>2021-09-01</td>\n",
              "    </tr>\n",
              "  </tbody>\n",
              "</table>\n",
              "<p>367210 rows × 11 columns</p>\n",
              "</div>"
            ],
            "text/plain": [
              "       Order ID                     Product  Quantity Ordered  Price Each  \\\n",
              "0      171654.0        USB-C Charging Cable               1.0   11.950000   \n",
              "1      171655.0            Wired Headphones               2.0   11.990000   \n",
              "2      171656.0  Bose SoundSport Headphones               1.0   99.989998   \n",
              "3      171657.0            Wired Headphones               1.0   11.990000   \n",
              "4      171658.0      AAA Batteries (4-pack)               2.0    2.990000   \n",
              "...         ...                         ...               ...         ...   \n",
              "17116  250343.0            Wired Headphones               1.0   11.990000   \n",
              "17117  250344.0  Bose SoundSport Headphones               1.0   99.989998   \n",
              "17118  250345.0      AAA Batteries (4-pack)               3.0    2.990000   \n",
              "17119  250346.0            Wired Headphones               1.0   11.990000   \n",
              "17120  250347.0  Bose SoundSport Headphones               1.0   99.989998   \n",
              "\n",
              "               Order Date                       Purchase Address  Total Price  \\\n",
              "0     2020-04-22 22:27:00     784 Pine St, Los Angeles, CA 90001    11.950000   \n",
              "1     2020-04-02 15:14:00         513 North St, Boston, MA 02215    23.980000   \n",
              "2     2020-04-30 20:09:00    480 Maple St, Los Angeles, CA 90001    99.989998   \n",
              "3     2020-04-05 00:23:00     5 Pine St, San Francisco, CA 94016    11.990000   \n",
              "4     2020-04-07 10:36:00    95 Lake St, New York City, NY 10001     5.980000   \n",
              "...                   ...                                    ...          ...   \n",
              "17116 2021-09-13 21:20:00   981 West St, San Francisco, CA 94016    11.990000   \n",
              "17117 2021-09-15 15:41:00  16 Highland St, Los Angeles, CA 90001    99.989998   \n",
              "17118 2021-09-15 17:13:00    630 South St, Los Angeles, CA 90001     8.970000   \n",
              "17119 2021-09-25 08:15:00  626 Adams St, San Francisco, CA 94016    11.990000   \n",
              "17120 2021-09-01 20:17:00     269 Jefferson St, Boston, MA 02215    99.989998   \n",
              "\n",
              "       month  hours               city       date  \n",
              "0          4     22     Los Angeles CA 2020-04-22  \n",
              "1          4     15          Boston MA 2020-04-02  \n",
              "2          4     20     Los Angeles CA 2020-04-30  \n",
              "3          4      0   San Francisco CA 2020-04-05  \n",
              "4          4     10   New York City NY 2020-04-07  \n",
              "...      ...    ...                ...        ...  \n",
              "17116      9     21   San Francisco CA 2021-09-13  \n",
              "17117      9     15     Los Angeles CA 2021-09-15  \n",
              "17118      9     17     Los Angeles CA 2021-09-15  \n",
              "17119      9      8   San Francisco CA 2021-09-25  \n",
              "17120      9     20          Boston MA 2021-09-01  \n",
              "\n",
              "[367210 rows x 11 columns]"
            ]
          },
          "execution_count": 35,
          "metadata": {},
          "output_type": "execute_result"
        }
      ],
      "source": [
        "df"
      ]
    },
    {
      "cell_type": "code",
      "execution_count": null,
      "metadata": {
        "id": "U0oyYWv4RQSw"
      },
      "outputs": [],
      "source": [
        ""
      ]
    },
    {
      "cell_type": "code",
      "execution_count": null,
      "metadata": {
        "id": "hIWKzSwORQaC"
      },
      "outputs": [],
      "source": [
        ""
      ]
    },
    {
      "cell_type": "code",
      "execution_count": null,
      "metadata": {
        "id": "cSzOqEvBRQgI"
      },
      "outputs": [],
      "source": [
        ""
      ]
    },
    {
      "cell_type": "markdown",
      "metadata": {
        "id": "HUO9g8XyHmf1"
      },
      "source": [
        "\n",
        "\n",
        "\n",
        "**Price Forecasting**"
      ]
    },
    {
      "cell_type": "code",
      "execution_count": null,
      "metadata": {
        "id": "OLa06ZnGHmf1",
        "outputId": "d4e4b062-30df-4f26-aa04-8de6c51915aa"
      },
      "outputs": [
        {
          "data": {
            "text/html": [
              "<div>\n",
              "<style scoped>\n",
              "    .dataframe tbody tr th:only-of-type {\n",
              "        vertical-align: middle;\n",
              "    }\n",
              "\n",
              "    .dataframe tbody tr th {\n",
              "        vertical-align: top;\n",
              "    }\n",
              "\n",
              "    .dataframe thead th {\n",
              "        text-align: right;\n",
              "    }\n",
              "</style>\n",
              "<table border=\"1\" class=\"dataframe\">\n",
              "  <thead>\n",
              "    <tr style=\"text-align: right;\">\n",
              "      <th></th>\n",
              "      <th>date</th>\n",
              "      <th>Total Price</th>\n",
              "    </tr>\n",
              "  </thead>\n",
              "  <tbody>\n",
              "    <tr>\n",
              "      <th>0</th>\n",
              "      <td>2020-04-22</td>\n",
              "      <td>11.950000</td>\n",
              "    </tr>\n",
              "    <tr>\n",
              "      <th>1</th>\n",
              "      <td>2020-04-02</td>\n",
              "      <td>23.980000</td>\n",
              "    </tr>\n",
              "    <tr>\n",
              "      <th>2</th>\n",
              "      <td>2020-04-30</td>\n",
              "      <td>99.989998</td>\n",
              "    </tr>\n",
              "    <tr>\n",
              "      <th>3</th>\n",
              "      <td>2020-04-05</td>\n",
              "      <td>11.990000</td>\n",
              "    </tr>\n",
              "    <tr>\n",
              "      <th>4</th>\n",
              "      <td>2020-04-07</td>\n",
              "      <td>5.980000</td>\n",
              "    </tr>\n",
              "    <tr>\n",
              "      <th>...</th>\n",
              "      <td>...</td>\n",
              "      <td>...</td>\n",
              "    </tr>\n",
              "    <tr>\n",
              "      <th>17116</th>\n",
              "      <td>2021-09-13</td>\n",
              "      <td>11.990000</td>\n",
              "    </tr>\n",
              "    <tr>\n",
              "      <th>17117</th>\n",
              "      <td>2021-09-15</td>\n",
              "      <td>99.989998</td>\n",
              "    </tr>\n",
              "    <tr>\n",
              "      <th>17118</th>\n",
              "      <td>2021-09-15</td>\n",
              "      <td>8.970000</td>\n",
              "    </tr>\n",
              "    <tr>\n",
              "      <th>17119</th>\n",
              "      <td>2021-09-25</td>\n",
              "      <td>11.990000</td>\n",
              "    </tr>\n",
              "    <tr>\n",
              "      <th>17120</th>\n",
              "      <td>2021-09-01</td>\n",
              "      <td>99.989998</td>\n",
              "    </tr>\n",
              "  </tbody>\n",
              "</table>\n",
              "<p>367210 rows × 2 columns</p>\n",
              "</div>"
            ],
            "text/plain": [
              "            date  Total Price\n",
              "0     2020-04-22    11.950000\n",
              "1     2020-04-02    23.980000\n",
              "2     2020-04-30    99.989998\n",
              "3     2020-04-05    11.990000\n",
              "4     2020-04-07     5.980000\n",
              "...          ...          ...\n",
              "17116 2021-09-13    11.990000\n",
              "17117 2021-09-15    99.989998\n",
              "17118 2021-09-15     8.970000\n",
              "17119 2021-09-25    11.990000\n",
              "17120 2021-09-01    99.989998\n",
              "\n",
              "[367210 rows x 2 columns]"
            ]
          },
          "execution_count": 36,
          "metadata": {},
          "output_type": "execute_result"
        }
      ],
      "source": [
        "dataset = df[['date','Total Price']]\n",
        "dataset"
      ]
    },
    {
      "cell_type": "markdown",
      "metadata": {
        "id": "WTUY-JgQHmf1"
      },
      "source": [
        "**plot Monthly Peice** "
      ]
    },
    {
      "cell_type": "code",
      "execution_count": null,
      "metadata": {
        "id": "evD19z9OHmf2",
        "outputId": "c0db2af3-bd70-423f-ad36-a2c7cba84221"
      },
      "outputs": [
        {
          "name": "stderr",
          "output_type": "stream",
          "text": [
            "C:\\ProgramData\\Anaconda3\\lib\\site-packages\\seaborn\\_decorators.py:36: FutureWarning: Pass the following variables as keyword args: x, y. From version 0.12, the only valid positional argument will be `data`, and passing other arguments without an explicit keyword will result in an error or misinterpretation.\n",
            "  warnings.warn(\n"
          ]
        },
        {
          "data": {
            "image/png": "[encoded data removed]",
            "text/plain": [
              "<Figure size 1080x360 with 1 Axes>"
            ]
          },
          "metadata": {
            "needs_background": "light"
          },
          "output_type": "display_data"
        }
      ],
      "source": [
        "def time_plot(data, x_col, y_col, title):\n",
        "    fig, ax = plt.subplots(figsize=(15,5))\n",
        "    sns.lineplot(x_col, y_col, data=data, ax=ax, color='mediumblue', label='Total Price')\n",
        "    \n",
        "    second = data.groupby(data.date.dt.year)[y_col].mean().reset_index()\n",
        "    second.date = pd.to_datetime(second.date, format='%Y')\n",
        "    \n",
        "    ax.set(xlabel = \"Date\",\n",
        "           ylabel = \"Total Price\",\n",
        "           title = title)\n",
        "    \n",
        "    sns.despine()\n",
        "time_plot(dataset, 'date', 'Total Price', 'Monthly Peice Before Diff Transformation')"
      ]
    },
    {
      "cell_type": "markdown",
      "metadata": {
        "id": "MC1IhW9bHmf2"
      },
      "source": [
        "**Preparing Dataset Modeling:**\n",
        "\n",
        "\n",
        "**Regressive Modeling:**\n",
        "     -pandas Function dataframe.shift() Shift the index by the desired number of periods with an optional time frequency. This function takes a scalar parameter period, which represents the number of shifts along the desired axis. This function is very useful when working with time-series data.\n",
        "\n",
        "    \n",
        "        "
      ]
    },
    {
      "cell_type": "code",
      "execution_count": null,
      "metadata": {
        "id": "bkMo1MIEHmf2",
        "outputId": "96606d71-c535-48a7-cdfa-1f546e99a566"
      },
      "outputs": [
        {
          "name": "stderr",
          "output_type": "stream",
          "text": [
            "<ipython-input-40-06e98165b411>:2: SettingWithCopyWarning: \n",
            "A value is trying to be set on a copy of a slice from a DataFrame.\n",
            "Try using .loc[row_indexer,col_indexer] = value instead\n",
            "\n",
            "See the caveats in the documentation: https://pandas.pydata.org/pandas-docs/stable/user_guide/indexing.html#returning-a-view-versus-a-copy\n",
            "  data['Price_diff'] = data['Total Price'].diff()\n"
          ]
        }
      ],
      "source": [
        "def get_diff(data):\n",
        "    data['Price_diff'] = data['Total Price'].diff()\n",
        "    data = data.dropna()\n",
        "    return data\n",
        "stationary_df = get_diff(dataset)"
      ]
    },
    {
      "cell_type": "code",
      "execution_count": null,
      "metadata": {
        "id": "3He5LZdNHmf2",
        "outputId": "3c3580de-d2c6-47e5-d24a-c805a4b1f6e0"
      },
      "outputs": [
        {
          "data": {
            "text/html": [
              "<div>\n",
              "<style scoped>\n",
              "    .dataframe tbody tr th:only-of-type {\n",
              "        vertical-align: middle;\n",
              "    }\n",
              "\n",
              "    .dataframe tbody tr th {\n",
              "        vertical-align: top;\n",
              "    }\n",
              "\n",
              "    .dataframe thead th {\n",
              "        text-align: right;\n",
              "    }\n",
              "</style>\n",
              "<table border=\"1\" class=\"dataframe\">\n",
              "  <thead>\n",
              "    <tr style=\"text-align: right;\">\n",
              "      <th></th>\n",
              "      <th>date</th>\n",
              "      <th>Total Price</th>\n",
              "      <th>Price_diff</th>\n",
              "    </tr>\n",
              "  </thead>\n",
              "  <tbody>\n",
              "    <tr>\n",
              "      <th>1</th>\n",
              "      <td>2020-04-02</td>\n",
              "      <td>23.980000</td>\n",
              "      <td>12.030000</td>\n",
              "    </tr>\n",
              "    <tr>\n",
              "      <th>2</th>\n",
              "      <td>2020-04-30</td>\n",
              "      <td>99.989998</td>\n",
              "      <td>76.009995</td>\n",
              "    </tr>\n",
              "    <tr>\n",
              "      <th>3</th>\n",
              "      <td>2020-04-05</td>\n",
              "      <td>11.990000</td>\n",
              "      <td>-88.000000</td>\n",
              "    </tr>\n",
              "    <tr>\n",
              "      <th>4</th>\n",
              "      <td>2020-04-07</td>\n",
              "      <td>5.980000</td>\n",
              "      <td>-6.010000</td>\n",
              "    </tr>\n",
              "    <tr>\n",
              "      <th>5</th>\n",
              "      <td>2020-04-18</td>\n",
              "      <td>99.989998</td>\n",
              "      <td>94.009995</td>\n",
              "    </tr>\n",
              "    <tr>\n",
              "      <th>...</th>\n",
              "      <td>...</td>\n",
              "      <td>...</td>\n",
              "      <td>...</td>\n",
              "    </tr>\n",
              "    <tr>\n",
              "      <th>17116</th>\n",
              "      <td>2021-09-13</td>\n",
              "      <td>11.990000</td>\n",
              "      <td>-588.010010</td>\n",
              "    </tr>\n",
              "    <tr>\n",
              "      <th>17117</th>\n",
              "      <td>2021-09-15</td>\n",
              "      <td>99.989998</td>\n",
              "      <td>88.000000</td>\n",
              "    </tr>\n",
              "    <tr>\n",
              "      <th>17118</th>\n",
              "      <td>2021-09-15</td>\n",
              "      <td>8.970000</td>\n",
              "      <td>-91.019997</td>\n",
              "    </tr>\n",
              "    <tr>\n",
              "      <th>17119</th>\n",
              "      <td>2021-09-25</td>\n",
              "      <td>11.990000</td>\n",
              "      <td>3.020000</td>\n",
              "    </tr>\n",
              "    <tr>\n",
              "      <th>17120</th>\n",
              "      <td>2021-09-01</td>\n",
              "      <td>99.989998</td>\n",
              "      <td>88.000000</td>\n",
              "    </tr>\n",
              "  </tbody>\n",
              "</table>\n",
              "<p>367209 rows × 3 columns</p>\n",
              "</div>"
            ],
            "text/plain": [
              "            date  Total Price  Price_diff\n",
              "1     2020-04-02    23.980000   12.030000\n",
              "2     2020-04-30    99.989998   76.009995\n",
              "3     2020-04-05    11.990000  -88.000000\n",
              "4     2020-04-07     5.980000   -6.010000\n",
              "5     2020-04-18    99.989998   94.009995\n",
              "...          ...          ...         ...\n",
              "17116 2021-09-13    11.990000 -588.010010\n",
              "17117 2021-09-15    99.989998   88.000000\n",
              "17118 2021-09-15     8.970000  -91.019997\n",
              "17119 2021-09-25    11.990000    3.020000\n",
              "17120 2021-09-01    99.989998   88.000000\n",
              "\n",
              "[367209 rows x 3 columns]"
            ]
          },
          "execution_count": 41,
          "metadata": {},
          "output_type": "execute_result"
        }
      ],
      "source": [
        "stationary_df"
      ]
    },
    {
      "cell_type": "markdown",
      "metadata": {
        "id": "8yBaZ4rkHmf2"
      },
      "source": [
        "**create dataframe for transformation from time series to supervised**"
      ]
    },
    {
      "cell_type": "code",
      "execution_count": null,
      "metadata": {
        "id": "stlf-FKPHmf3",
        "outputId": "9e489a67-ac48-44aa-b895-97dd1e5b035c"
      },
      "outputs": [
        {
          "data": {
            "text/html": [
              "<div>\n",
              "<style scoped>\n",
              "    .dataframe tbody tr th:only-of-type {\n",
              "        vertical-align: middle;\n",
              "    }\n",
              "\n",
              "    .dataframe tbody tr th {\n",
              "        vertical-align: top;\n",
              "    }\n",
              "\n",
              "    .dataframe thead th {\n",
              "        text-align: right;\n",
              "    }\n",
              "</style>\n",
              "<table border=\"1\" class=\"dataframe\">\n",
              "  <thead>\n",
              "    <tr style=\"text-align: right;\">\n",
              "      <th></th>\n",
              "      <th>date</th>\n",
              "      <th>Total Price</th>\n",
              "      <th>Price_diff</th>\n",
              "      <th>lag_1</th>\n",
              "      <th>lag_2</th>\n",
              "      <th>lag_3</th>\n",
              "      <th>lag_4</th>\n",
              "      <th>lag_5</th>\n",
              "      <th>lag_6</th>\n",
              "      <th>lag_7</th>\n",
              "      <th>lag_8</th>\n",
              "      <th>lag_9</th>\n",
              "      <th>lag_10</th>\n",
              "      <th>lag_11</th>\n",
              "      <th>lag_12</th>\n",
              "    </tr>\n",
              "  </thead>\n",
              "  <tbody>\n",
              "    <tr>\n",
              "      <th>0</th>\n",
              "      <td>2020-04-09</td>\n",
              "      <td>5.980000</td>\n",
              "      <td>-144.020004</td>\n",
              "      <td>0.000000</td>\n",
              "      <td>-1550.000000</td>\n",
              "      <td>1688.040039</td>\n",
              "      <td>-688.039978</td>\n",
              "      <td>590.010010</td>\n",
              "      <td>98.000000</td>\n",
              "      <td>-88.000000</td>\n",
              "      <td>94.009995</td>\n",
              "      <td>-6.010000</td>\n",
              "      <td>-88.000000</td>\n",
              "      <td>76.009995</td>\n",
              "      <td>12.030000</td>\n",
              "    </tr>\n",
              "    <tr>\n",
              "      <th>1</th>\n",
              "      <td>2020-04-13</td>\n",
              "      <td>109.989998</td>\n",
              "      <td>104.009995</td>\n",
              "      <td>-144.020004</td>\n",
              "      <td>0.000000</td>\n",
              "      <td>-1550.000000</td>\n",
              "      <td>1688.040039</td>\n",
              "      <td>-688.039978</td>\n",
              "      <td>590.010010</td>\n",
              "      <td>98.000000</td>\n",
              "      <td>-88.000000</td>\n",
              "      <td>94.009995</td>\n",
              "      <td>-6.010000</td>\n",
              "      <td>-88.000000</td>\n",
              "      <td>76.009995</td>\n",
              "    </tr>\n",
              "    <tr>\n",
              "      <th>2</th>\n",
              "      <td>2020-04-01</td>\n",
              "      <td>1700.000000</td>\n",
              "      <td>1590.010010</td>\n",
              "      <td>104.009995</td>\n",
              "      <td>-144.020004</td>\n",
              "      <td>0.000000</td>\n",
              "      <td>-1550.000000</td>\n",
              "      <td>1688.040039</td>\n",
              "      <td>-688.039978</td>\n",
              "      <td>590.010010</td>\n",
              "      <td>98.000000</td>\n",
              "      <td>-88.000000</td>\n",
              "      <td>94.009995</td>\n",
              "      <td>-6.010000</td>\n",
              "      <td>-88.000000</td>\n",
              "    </tr>\n",
              "    <tr>\n",
              "      <th>3</th>\n",
              "      <td>2020-04-30</td>\n",
              "      <td>379.989990</td>\n",
              "      <td>-1320.010010</td>\n",
              "      <td>1590.010010</td>\n",
              "      <td>104.009995</td>\n",
              "      <td>-144.020004</td>\n",
              "      <td>0.000000</td>\n",
              "      <td>-1550.000000</td>\n",
              "      <td>1688.040039</td>\n",
              "      <td>-688.039978</td>\n",
              "      <td>590.010010</td>\n",
              "      <td>98.000000</td>\n",
              "      <td>-88.000000</td>\n",
              "      <td>94.009995</td>\n",
              "      <td>-6.010000</td>\n",
              "    </tr>\n",
              "    <tr>\n",
              "      <th>4</th>\n",
              "      <td>2020-04-14</td>\n",
              "      <td>5.980000</td>\n",
              "      <td>-374.009979</td>\n",
              "      <td>-1320.010010</td>\n",
              "      <td>1590.010010</td>\n",
              "      <td>104.009995</td>\n",
              "      <td>-144.020004</td>\n",
              "      <td>0.000000</td>\n",
              "      <td>-1550.000000</td>\n",
              "      <td>1688.040039</td>\n",
              "      <td>-688.039978</td>\n",
              "      <td>590.010010</td>\n",
              "      <td>98.000000</td>\n",
              "      <td>-88.000000</td>\n",
              "      <td>94.009995</td>\n",
              "    </tr>\n",
              "    <tr>\n",
              "      <th>...</th>\n",
              "      <td>...</td>\n",
              "      <td>...</td>\n",
              "      <td>...</td>\n",
              "      <td>...</td>\n",
              "      <td>...</td>\n",
              "      <td>...</td>\n",
              "      <td>...</td>\n",
              "      <td>...</td>\n",
              "      <td>...</td>\n",
              "      <td>...</td>\n",
              "      <td>...</td>\n",
              "      <td>...</td>\n",
              "      <td>...</td>\n",
              "      <td>...</td>\n",
              "      <td>...</td>\n",
              "    </tr>\n",
              "    <tr>\n",
              "      <th>367192</th>\n",
              "      <td>2021-09-13</td>\n",
              "      <td>11.990000</td>\n",
              "      <td>-588.010010</td>\n",
              "      <td>576.020020</td>\n",
              "      <td>-576.020020</td>\n",
              "      <td>588.010010</td>\n",
              "      <td>-2.960000</td>\n",
              "      <td>-365.039978</td>\n",
              "      <td>-220.010010</td>\n",
              "      <td>585.049988</td>\n",
              "      <td>-365.039978</td>\n",
              "      <td>280.000000</td>\n",
              "      <td>-50.010002</td>\n",
              "      <td>146.160004</td>\n",
              "      <td>0.000000</td>\n",
              "    </tr>\n",
              "    <tr>\n",
              "      <th>367193</th>\n",
              "      <td>2021-09-15</td>\n",
              "      <td>99.989998</td>\n",
              "      <td>88.000000</td>\n",
              "      <td>-588.010010</td>\n",
              "      <td>576.020020</td>\n",
              "      <td>-576.020020</td>\n",
              "      <td>588.010010</td>\n",
              "      <td>-2.960000</td>\n",
              "      <td>-365.039978</td>\n",
              "      <td>-220.010010</td>\n",
              "      <td>585.049988</td>\n",
              "      <td>-365.039978</td>\n",
              "      <td>280.000000</td>\n",
              "      <td>-50.010002</td>\n",
              "      <td>146.160004</td>\n",
              "    </tr>\n",
              "    <tr>\n",
              "      <th>367194</th>\n",
              "      <td>2021-09-15</td>\n",
              "      <td>8.970000</td>\n",
              "      <td>-91.019997</td>\n",
              "      <td>88.000000</td>\n",
              "      <td>-588.010010</td>\n",
              "      <td>576.020020</td>\n",
              "      <td>-576.020020</td>\n",
              "      <td>588.010010</td>\n",
              "      <td>-2.960000</td>\n",
              "      <td>-365.039978</td>\n",
              "      <td>-220.010010</td>\n",
              "      <td>585.049988</td>\n",
              "      <td>-365.039978</td>\n",
              "      <td>280.000000</td>\n",
              "      <td>-50.010002</td>\n",
              "    </tr>\n",
              "    <tr>\n",
              "      <th>367195</th>\n",
              "      <td>2021-09-25</td>\n",
              "      <td>11.990000</td>\n",
              "      <td>3.020000</td>\n",
              "      <td>-91.019997</td>\n",
              "      <td>88.000000</td>\n",
              "      <td>-588.010010</td>\n",
              "      <td>576.020020</td>\n",
              "      <td>-576.020020</td>\n",
              "      <td>588.010010</td>\n",
              "      <td>-2.960000</td>\n",
              "      <td>-365.039978</td>\n",
              "      <td>-220.010010</td>\n",
              "      <td>585.049988</td>\n",
              "      <td>-365.039978</td>\n",
              "      <td>280.000000</td>\n",
              "    </tr>\n",
              "    <tr>\n",
              "      <th>367196</th>\n",
              "      <td>2021-09-01</td>\n",
              "      <td>99.989998</td>\n",
              "      <td>88.000000</td>\n",
              "      <td>3.020000</td>\n",
              "      <td>-91.019997</td>\n",
              "      <td>88.000000</td>\n",
              "      <td>-588.010010</td>\n",
              "      <td>576.020020</td>\n",
              "      <td>-576.020020</td>\n",
              "      <td>588.010010</td>\n",
              "      <td>-2.960000</td>\n",
              "      <td>-365.039978</td>\n",
              "      <td>-220.010010</td>\n",
              "      <td>585.049988</td>\n",
              "      <td>-365.039978</td>\n",
              "    </tr>\n",
              "  </tbody>\n",
              "</table>\n",
              "<p>367197 rows × 15 columns</p>\n",
              "</div>"
            ],
            "text/plain": [
              "             date  Total Price   Price_diff        lag_1        lag_2  \\\n",
              "0      2020-04-09     5.980000  -144.020004     0.000000 -1550.000000   \n",
              "1      2020-04-13   109.989998   104.009995  -144.020004     0.000000   \n",
              "2      2020-04-01  1700.000000  1590.010010   104.009995  -144.020004   \n",
              "3      2020-04-30   379.989990 -1320.010010  1590.010010   104.009995   \n",
              "4      2020-04-14     5.980000  -374.009979 -1320.010010  1590.010010   \n",
              "...           ...          ...          ...          ...          ...   \n",
              "367192 2021-09-13    11.990000  -588.010010   576.020020  -576.020020   \n",
              "367193 2021-09-15    99.989998    88.000000  -588.010010   576.020020   \n",
              "367194 2021-09-15     8.970000   -91.019997    88.000000  -588.010010   \n",
              "367195 2021-09-25    11.990000     3.020000   -91.019997    88.000000   \n",
              "367196 2021-09-01    99.989998    88.000000     3.020000   -91.019997   \n",
              "\n",
              "              lag_3        lag_4        lag_5        lag_6        lag_7  \\\n",
              "0       1688.040039  -688.039978   590.010010    98.000000   -88.000000   \n",
              "1      -1550.000000  1688.040039  -688.039978   590.010010    98.000000   \n",
              "2          0.000000 -1550.000000  1688.040039  -688.039978   590.010010   \n",
              "3       -144.020004     0.000000 -1550.000000  1688.040039  -688.039978   \n",
              "4        104.009995  -144.020004     0.000000 -1550.000000  1688.040039   \n",
              "...             ...          ...          ...          ...          ...   \n",
              "367192   588.010010    -2.960000  -365.039978  -220.010010   585.049988   \n",
              "367193  -576.020020   588.010010    -2.960000  -365.039978  -220.010010   \n",
              "367194   576.020020  -576.020020   588.010010    -2.960000  -365.039978   \n",
              "367195  -588.010010   576.020020  -576.020020   588.010010    -2.960000   \n",
              "367196    88.000000  -588.010010   576.020020  -576.020020   588.010010   \n",
              "\n",
              "             lag_8       lag_9      lag_10      lag_11      lag_12  \n",
              "0        94.009995   -6.010000  -88.000000   76.009995   12.030000  \n",
              "1       -88.000000   94.009995   -6.010000  -88.000000   76.009995  \n",
              "2        98.000000  -88.000000   94.009995   -6.010000  -88.000000  \n",
              "3       590.010010   98.000000  -88.000000   94.009995   -6.010000  \n",
              "4      -688.039978  590.010010   98.000000  -88.000000   94.009995  \n",
              "...            ...         ...         ...         ...         ...  \n",
              "367192 -365.039978  280.000000  -50.010002  146.160004    0.000000  \n",
              "367193  585.049988 -365.039978  280.000000  -50.010002  146.160004  \n",
              "367194 -220.010010  585.049988 -365.039978  280.000000  -50.010002  \n",
              "367195 -365.039978 -220.010010  585.049988 -365.039978  280.000000  \n",
              "367196   -2.960000 -365.039978 -220.010010  585.049988 -365.039978  \n",
              "\n",
              "[367197 rows x 15 columns]"
            ]
          },
          "execution_count": 42,
          "metadata": {},
          "output_type": "execute_result"
        }
      ],
      "source": [
        "def generate_supervised(data):\n",
        "    supervised_df = data.copy()\n",
        "    \n",
        "    #create column for each lag\n",
        "    for i in range(1,13):\n",
        "        col_name = 'lag_' + str(i)\n",
        "        supervised_df[col_name] = supervised_df['Price_diff'].shift(i)\n",
        "    \n",
        "    #drop null values\n",
        "    supervised_df = supervised_df.dropna().reset_index(drop=True)\n",
        "        \n",
        "    return supervised_df\n",
        "model_df = generate_supervised(stationary_df)\n",
        "model_df"
      ]
    },
    {
      "cell_type": "markdown",
      "metadata": {
        "id": "L6aO6Sn6Hmf3"
      },
      "source": [
        "**Split data train and test**"
      ]
    },
    {
      "cell_type": "code",
      "execution_count": null,
      "metadata": {
        "id": "CGzFYqxaHmf3"
      },
      "outputs": [],
      "source": [
        "def tts(data):\n",
        "    data = data.drop(['Total Price','date'],axis=1)\n",
        "    train, test = data[0:-99].values, data[-99:].values\n",
        "    \n",
        "    return train, test\n",
        "\n",
        "train, test = tts(model_df)"
      ]
    },
    {
      "cell_type": "code",
      "execution_count": null,
      "metadata": {
        "id": "q0-7X-U_Hmf3",
        "outputId": "fb3c10a3-62d5-4446-e020-e92704563760"
      },
      "outputs": [
        {
          "data": {
            "text/plain": [
              "(367098, 13)"
            ]
          },
          "execution_count": 44,
          "metadata": {},
          "output_type": "execute_result"
        }
      ],
      "source": [
        "train.shape"
      ]
    },
    {
      "cell_type": "markdown",
      "metadata": {
        "id": "YqD11hHcHmf3"
      },
      "source": [
        "**apply Min Max Scaler and reshape training set and testing set**"
      ]
    },
    {
      "cell_type": "code",
      "execution_count": null,
      "metadata": {
        "id": "QT1CIXCcHmf3"
      },
      "outputs": [],
      "source": [
        "from sklearn.preprocessing import MinMaxScaler"
      ]
    },
    {
      "cell_type": "code",
      "execution_count": null,
      "metadata": {
        "id": "aXO0MZlEHmf3",
        "outputId": "68b3f05b-a9c0-4887-d53c-359b886e87e3"
      },
      "outputs": [
        {
          "data": {
            "text/plain": [
              "(367098, 12)"
            ]
          },
          "execution_count": 47,
          "metadata": {},
          "output_type": "execute_result"
        }
      ],
      "source": [
        "def scale_data(train_set, test_set):\n",
        "    \n",
        "    scaler = MinMaxScaler(feature_range=(-1, 1))\n",
        "    scaler = scaler.fit(train_set)\n",
        "    \n",
        "    train_set = train_set.reshape(train_set.shape[0], train_set.shape[1])\n",
        "    train_set_scaled = scaler.transform(train_set)\n",
        "    \n",
        "    test_set = test_set.reshape(test_set.shape[0], test_set.shape[1])\n",
        "    test_set_scaled = scaler.transform(test_set)\n",
        "    \n",
        "    X_train, y_train = train_set_scaled[:, 1:], train_set_scaled[:, 0:1].ravel()\n",
        "    X_test, y_test = test_set_scaled[:, 1:], test_set_scaled[:, 0:1].ravel()\n",
        "    \n",
        "    return X_train, y_train, X_test, y_test, scaler\n",
        "\n",
        "X_train, y_train, X_test, y_test, scaler_object = scale_data(train, test)\n",
        "X_train.shape"
      ]
    },
    {
      "cell_type": "code",
      "execution_count": null,
      "metadata": {
        "id": "mG3U63MdHmf6"
      },
      "outputs": [],
      "source": [
        "import pandas as pd\n",
        "import numpy as np\n",
        "\n",
        "import matplotlib.pyplot as plt\n",
        "import seaborn as sns\n",
        "\n",
        "from sklearn.preprocessing import MinMaxScaler\n",
        "from sklearn.linear_model import LinearRegression\n",
        "from sklearn.metrics import mean_squared_error, mean_absolute_error, r2_score\n",
        "from sklearn.ensemble import RandomForestRegressor\n",
        "\n",
        "import keras\n",
        "from keras.layers import Dense\n",
        "from keras.models import Sequential\n",
        "from keras.optimizers import Adam \n",
        "from keras.callbacks import EarlyStopping\n",
        "from keras.utils import np_utils\n",
        "from keras.layers import LSTM\n",
        "from sklearn.model_selection import KFold, cross_val_score, train_test_split\n",
        "\n",
        "import pickle"
      ]
    },
    {
      "cell_type": "markdown",
      "metadata": {
        "id": "7-1nr-4eHmf6"
      },
      "source": [
        "1.   **function_1: reshape y_pred and rebuild test set for inverse transform**\n",
        "2.   **function_2: load in original dataframe without scaling applied**\n",
        "3.   **function_3: create dataframe that shows the predicted sales**\n",
        "4.   **function_4: predict**\n",
        "5.   **function_5: get scores(RMSE,MAE,R2 Score)**\n",
        "6.   **function_6: plot results**\n",
        "7.   **function_7: run model** \n",
        "\n"
      ]
    },
    {
      "cell_type": "code",
      "execution_count": null,
      "metadata": {
        "id": "Sb7skHQBHmf6"
      },
      "outputs": [],
      "source": [
        "def undo_scaling(y_pred, x_test, scaler_obj, lstm=False):  \n",
        "    \n",
        "    y_pred = y_pred.reshape(y_pred.shape[0], 1, 1)\n",
        "    \n",
        "    if not lstm:\n",
        "        x_test = x_test.reshape(x_test.shape[0], 1, x_test.shape[1])\n",
        "    \n",
        "    \n",
        "    pred_test_set = []\n",
        "    for index in range(0,len(y_pred)):\n",
        "        pred_test_set.append(np.concatenate([y_pred[index],x_test[index]],axis=1))\n",
        "        \n",
        "    pred_test_set = np.array(pred_test_set)\n",
        "    pred_test_set = pred_test_set.reshape(pred_test_set.shape[0], pred_test_set.shape[2])\n",
        "    \n",
        "    pred_test_set_inverted = scaler_obj.inverse_transform(pred_test_set)\n",
        "    \n",
        "    return pred_test_set_inverted\n",
        "def load_original_df():\n",
        "    #\n",
        "    dataset.date = dataset.date.apply(lambda x: str(x)[:-3])\n",
        "    original_df = dataset.groupby('date')['Total Price'].sum().reset_index()\n",
        "    original_df.date = pd.to_datetime(original_df.date)\n",
        "    return original_df\n",
        "def predict_df(unscaled_predictions, original_df):\n",
        "    #create dataframe that shows the predicted sales\n",
        "    result_list = []\n",
        "    sales_dates = list(original_df[-100:].date)\n",
        "    act_sales = list(original_df[-100:]['Total Price'])\n",
        "    \n",
        "    for index in range(0,len(unscaled_predictions)):\n",
        "        result_dict = {}\n",
        "        result_dict['pred_value'] = int(unscaled_predictions[index][0] + act_sales[index])\n",
        "        result_dict['date'] = sales_dates[index+1]\n",
        "        result_list.append(result_dict)\n",
        "        \n",
        "    df_result = pd.DataFrame(result_list)\n",
        "    \n",
        "    return df_result\n",
        "model_scores = {}\n",
        "\n",
        "def get_scores(unscaled_df, original_df, model_name):\n",
        "    rmse = np.sqrt(mean_squared_error(original_df['Total Price'][-99:], unscaled_df.pred_value[-99:]))\n",
        "    mae = mean_absolute_error(original_df['Total Price'][-99:], unscaled_df.pred_value[-99:])\n",
        "    r2 = r2_score(original_df['Total Price'][-99:], unscaled_df.pred_value[-99:])\n",
        "    model_scores[model_name] = [rmse, mae, r2]\n",
        "\n",
        "    print(f\"RMSE: {rmse}\")\n",
        "    print(f\"MAE: {mae}\")\n",
        "    print(f\"R2 Score: {r2}\")\n",
        "def plot_results(results, original_df, model_name):\n",
        "\n",
        "    fig, ax = plt.subplots(figsize=(15,5))\n",
        "    sns.lineplot(original_df.date, original_df['Total Price'], data=original_df, ax=ax, \n",
        "                 label='Original', color='mediumblue')\n",
        "    sns.lineplot(results.date, results.pred_value, data=results, ax=ax, \n",
        "                 label='Predicted', color='Red')\n",
        "    \n",
        "    ax.set(xlabel = \"Date\",\n",
        "           ylabel = \"Total Price\",\n",
        "           title = f\"{model_name} Price Forecasting Prediction\")\n",
        "    \n",
        "    ax.legend()\n",
        "    \n",
        "    sns.despine()\n",
        "    \n",
        "def run_model(train_data, test_data, model, model_name):\n",
        "    \n",
        "    X_train, y_train, X_test, y_test, scaler_object = scale_data(train_data, test_data)\n",
        "    \n",
        "    mod = model\n",
        "    mod.fit(X_train, y_train)\n",
        "    predictions = mod.predict(X_test)\n",
        "    \n",
        "    original_df = load_original_df()\n",
        "    unscaled = undo_scaling(predictions, X_test, scaler_object)\n",
        "    unscaled_df = predict_df(unscaled, original_df)\n",
        "      \n",
        "    get_scores(unscaled_df, original_df, model_name)\n",
        "    \n",
        "    plot_results(unscaled_df, original_df, model_name)"
      ]
    },
    {
      "cell_type": "code",
      "execution_count": null,
      "metadata": {
        "id": "BCeu6EoPHmf7",
        "outputId": "febdc118-d893-49f5-e9a2-f56f912f1801"
      },
      "outputs": [
        {
          "name": "stderr",
          "output_type": "stream",
          "text": [
            "C:\\ProgramData\\Anaconda3\\lib\\site-packages\\pandas\\core\\generic.py:5168: SettingWithCopyWarning: \n",
            "A value is trying to be set on a copy of a slice from a DataFrame.\n",
            "Try using .loc[row_indexer,col_indexer] = value instead\n",
            "\n",
            "See the caveats in the documentation: https://pandas.pydata.org/pandas-docs/stable/user_guide/indexing.html#returning-a-view-versus-a-copy\n",
            "  self[name] = value\n",
            "C:\\ProgramData\\Anaconda3\\lib\\site-packages\\seaborn\\_decorators.py:36: FutureWarning: Pass the following variables as keyword args: x, y. From version 0.12, the only valid positional argument will be `data`, and passing other arguments without an explicit keyword will result in an error or misinterpretation.\n",
            "  warnings.warn(\n",
            "C:\\ProgramData\\Anaconda3\\lib\\site-packages\\seaborn\\_decorators.py:36: FutureWarning: Pass the following variables as keyword args: x, y. From version 0.12, the only valid positional argument will be `data`, and passing other arguments without an explicit keyword will result in an error or misinterpretation.\n",
            "  warnings.warn(\n"
          ]
        },
        {
          "name": "stdout",
          "output_type": "stream",
          "text": [
            "RMSE: 18832.886920340818\n",
            "MAE: 11074.518771701389\n",
            "R2 Score: 0.7039713305695932\n"
          ]
        },
        {
          "data": {
            "image/png": "[encoded data removed]",
            "text/plain": [
              "<Figure size 1080x360 with 1 Axes>"
            ]
          },
          "metadata": {
            "needs_background": "light"
          },
          "output_type": "display_data"
        }
      ],
      "source": [
        "run_model(train, test, LinearRegression(), 'LinearRegression')"
      ]
    }
  ],
  "metadata": {
    "colab": {
      "collapsed_sections": [],
      "name": "Umniah_Task.ipynb",
      "provenance": []
    },
    "kernelspec": {
      "display_name": "Python 3",
      "language": "python",
      "name": "python3"
    },
    "language_info": {
      "codemirror_mode": {
        "name": "ipython",
        "version": 3
      },
      "file_extension": ".py",
      "mimetype": "text/x-python",
      "name": "python",
      "nbconvert_exporter": "python",
      "pygments_lexer": "ipython3",
      "version": "3.8.5"
    }
  },
  "nbformat": 4,
  "nbformat_minor": 0
}